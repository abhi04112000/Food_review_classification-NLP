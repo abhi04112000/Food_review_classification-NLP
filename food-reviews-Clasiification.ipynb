{
 "cells": [
  {
   "cell_type": "code",
   "execution_count": 1,
   "metadata": {
    "_cell_guid": "b1076dfc-b9ad-4769-8c92-a6c4dae69d19",
    "_uuid": "8f2839f25d086af736a60e9eeb907d3b93b6e0e5",
    "execution": {
     "iopub.execute_input": "2021-08-20T13:03:31.911063Z",
     "iopub.status.busy": "2021-08-20T13:03:31.910599Z",
     "iopub.status.idle": "2021-08-20T13:03:31.930715Z",
     "shell.execute_reply": "2021-08-20T13:03:31.929678Z",
     "shell.execute_reply.started": "2021-08-20T13:03:31.910972Z"
    }
   },
   "outputs": [],
   "source": [
    "\n",
    "\n",
    "import numpy as np \n",
    "import pandas as pd\n",
    "\n",
    "\n",
    "\n"
   ]
  },
  {
   "cell_type": "code",
   "execution_count": 2,
   "metadata": {
    "execution": {
     "iopub.execute_input": "2021-08-20T13:03:31.932725Z",
     "iopub.status.busy": "2021-08-20T13:03:31.932377Z",
     "iopub.status.idle": "2021-08-20T13:03:32.858649Z",
     "shell.execute_reply": "2021-08-20T13:03:32.857870Z",
     "shell.execute_reply.started": "2021-08-20T13:03:31.932694Z"
    }
   },
   "outputs": [],
   "source": [
    "import seaborn as sns\n",
    "\n",
    "import warnings\n",
    "warnings.filterwarnings('ignore')"
   ]
  },
  {
   "cell_type": "code",
   "execution_count": 3,
   "metadata": {
    "execution": {
     "iopub.execute_input": "2021-08-20T13:03:32.860326Z",
     "iopub.status.busy": "2021-08-20T13:03:32.859925Z",
     "iopub.status.idle": "2021-08-20T13:03:41.258444Z",
     "shell.execute_reply": "2021-08-20T13:03:41.257451Z",
     "shell.execute_reply.started": "2021-08-20T13:03:32.860297Z"
    }
   },
   "outputs": [
    {
     "data": {
      "text/html": [
       "<div>\n",
       "<style scoped>\n",
       "    .dataframe tbody tr th:only-of-type {\n",
       "        vertical-align: middle;\n",
       "    }\n",
       "\n",
       "    .dataframe tbody tr th {\n",
       "        vertical-align: top;\n",
       "    }\n",
       "\n",
       "    .dataframe thead th {\n",
       "        text-align: right;\n",
       "    }\n",
       "</style>\n",
       "<table border=\"1\" class=\"dataframe\">\n",
       "  <thead>\n",
       "    <tr style=\"text-align: right;\">\n",
       "      <th></th>\n",
       "      <th>Id</th>\n",
       "      <th>ProductId</th>\n",
       "      <th>UserId</th>\n",
       "      <th>ProfileName</th>\n",
       "      <th>HelpfulnessNumerator</th>\n",
       "      <th>HelpfulnessDenominator</th>\n",
       "      <th>Score</th>\n",
       "      <th>Time</th>\n",
       "      <th>Summary</th>\n",
       "      <th>Text</th>\n",
       "    </tr>\n",
       "  </thead>\n",
       "  <tbody>\n",
       "    <tr>\n",
       "      <th>0</th>\n",
       "      <td>1</td>\n",
       "      <td>B001E4KFG0</td>\n",
       "      <td>A3SGXH7AUHU8GW</td>\n",
       "      <td>delmartian</td>\n",
       "      <td>1</td>\n",
       "      <td>1</td>\n",
       "      <td>5</td>\n",
       "      <td>1303862400</td>\n",
       "      <td>Good Quality Dog Food</td>\n",
       "      <td>I have bought several of the Vitality canned d...</td>\n",
       "    </tr>\n",
       "    <tr>\n",
       "      <th>1</th>\n",
       "      <td>2</td>\n",
       "      <td>B00813GRG4</td>\n",
       "      <td>A1D87F6ZCVE5NK</td>\n",
       "      <td>dll pa</td>\n",
       "      <td>0</td>\n",
       "      <td>0</td>\n",
       "      <td>1</td>\n",
       "      <td>1346976000</td>\n",
       "      <td>Not as Advertised</td>\n",
       "      <td>Product arrived labeled as Jumbo Salted Peanut...</td>\n",
       "    </tr>\n",
       "    <tr>\n",
       "      <th>2</th>\n",
       "      <td>3</td>\n",
       "      <td>B000LQOCH0</td>\n",
       "      <td>ABXLMWJIXXAIN</td>\n",
       "      <td>Natalia Corres \"Natalia Corres\"</td>\n",
       "      <td>1</td>\n",
       "      <td>1</td>\n",
       "      <td>4</td>\n",
       "      <td>1219017600</td>\n",
       "      <td>\"Delight\" says it all</td>\n",
       "      <td>This is a confection that has been around a fe...</td>\n",
       "    </tr>\n",
       "    <tr>\n",
       "      <th>3</th>\n",
       "      <td>4</td>\n",
       "      <td>B000UA0QIQ</td>\n",
       "      <td>A395BORC6FGVXV</td>\n",
       "      <td>Karl</td>\n",
       "      <td>3</td>\n",
       "      <td>3</td>\n",
       "      <td>2</td>\n",
       "      <td>1307923200</td>\n",
       "      <td>Cough Medicine</td>\n",
       "      <td>If you are looking for the secret ingredient i...</td>\n",
       "    </tr>\n",
       "    <tr>\n",
       "      <th>4</th>\n",
       "      <td>5</td>\n",
       "      <td>B006K2ZZ7K</td>\n",
       "      <td>A1UQRSCLF8GW1T</td>\n",
       "      <td>Michael D. Bigham \"M. Wassir\"</td>\n",
       "      <td>0</td>\n",
       "      <td>0</td>\n",
       "      <td>5</td>\n",
       "      <td>1350777600</td>\n",
       "      <td>Great taffy</td>\n",
       "      <td>Great taffy at a great price.  There was a wid...</td>\n",
       "    </tr>\n",
       "    <tr>\n",
       "      <th>...</th>\n",
       "      <td>...</td>\n",
       "      <td>...</td>\n",
       "      <td>...</td>\n",
       "      <td>...</td>\n",
       "      <td>...</td>\n",
       "      <td>...</td>\n",
       "      <td>...</td>\n",
       "      <td>...</td>\n",
       "      <td>...</td>\n",
       "      <td>...</td>\n",
       "    </tr>\n",
       "    <tr>\n",
       "      <th>568449</th>\n",
       "      <td>568450</td>\n",
       "      <td>B001EO7N10</td>\n",
       "      <td>A28KG5XORO54AY</td>\n",
       "      <td>Lettie D. Carter</td>\n",
       "      <td>0</td>\n",
       "      <td>0</td>\n",
       "      <td>5</td>\n",
       "      <td>1299628800</td>\n",
       "      <td>Will not do without</td>\n",
       "      <td>Great for sesame chicken..this is a good if no...</td>\n",
       "    </tr>\n",
       "    <tr>\n",
       "      <th>568450</th>\n",
       "      <td>568451</td>\n",
       "      <td>B003S1WTCU</td>\n",
       "      <td>A3I8AFVPEE8KI5</td>\n",
       "      <td>R. Sawyer</td>\n",
       "      <td>0</td>\n",
       "      <td>0</td>\n",
       "      <td>2</td>\n",
       "      <td>1331251200</td>\n",
       "      <td>disappointed</td>\n",
       "      <td>I'm disappointed with the flavor. The chocolat...</td>\n",
       "    </tr>\n",
       "    <tr>\n",
       "      <th>568451</th>\n",
       "      <td>568452</td>\n",
       "      <td>B004I613EE</td>\n",
       "      <td>A121AA1GQV751Z</td>\n",
       "      <td>pksd \"pk_007\"</td>\n",
       "      <td>2</td>\n",
       "      <td>2</td>\n",
       "      <td>5</td>\n",
       "      <td>1329782400</td>\n",
       "      <td>Perfect for our maltipoo</td>\n",
       "      <td>These stars are small, so you can give 10-15 o...</td>\n",
       "    </tr>\n",
       "    <tr>\n",
       "      <th>568452</th>\n",
       "      <td>568453</td>\n",
       "      <td>B004I613EE</td>\n",
       "      <td>A3IBEVCTXKNOH</td>\n",
       "      <td>Kathy A. Welch \"katwel\"</td>\n",
       "      <td>1</td>\n",
       "      <td>1</td>\n",
       "      <td>5</td>\n",
       "      <td>1331596800</td>\n",
       "      <td>Favorite Training and reward treat</td>\n",
       "      <td>These are the BEST treats for training and rew...</td>\n",
       "    </tr>\n",
       "    <tr>\n",
       "      <th>568453</th>\n",
       "      <td>568454</td>\n",
       "      <td>B001LR2CU2</td>\n",
       "      <td>A3LGQPJCZVL9UC</td>\n",
       "      <td>srfell17</td>\n",
       "      <td>0</td>\n",
       "      <td>0</td>\n",
       "      <td>5</td>\n",
       "      <td>1338422400</td>\n",
       "      <td>Great Honey</td>\n",
       "      <td>I am very satisfied ,product is as advertised,...</td>\n",
       "    </tr>\n",
       "  </tbody>\n",
       "</table>\n",
       "<p>568454 rows × 10 columns</p>\n",
       "</div>"
      ],
      "text/plain": [
       "            Id   ProductId          UserId                      ProfileName  \\\n",
       "0            1  B001E4KFG0  A3SGXH7AUHU8GW                       delmartian   \n",
       "1            2  B00813GRG4  A1D87F6ZCVE5NK                           dll pa   \n",
       "2            3  B000LQOCH0   ABXLMWJIXXAIN  Natalia Corres \"Natalia Corres\"   \n",
       "3            4  B000UA0QIQ  A395BORC6FGVXV                             Karl   \n",
       "4            5  B006K2ZZ7K  A1UQRSCLF8GW1T    Michael D. Bigham \"M. Wassir\"   \n",
       "...        ...         ...             ...                              ...   \n",
       "568449  568450  B001EO7N10  A28KG5XORO54AY                 Lettie D. Carter   \n",
       "568450  568451  B003S1WTCU  A3I8AFVPEE8KI5                        R. Sawyer   \n",
       "568451  568452  B004I613EE  A121AA1GQV751Z                    pksd \"pk_007\"   \n",
       "568452  568453  B004I613EE   A3IBEVCTXKNOH          Kathy A. Welch \"katwel\"   \n",
       "568453  568454  B001LR2CU2  A3LGQPJCZVL9UC                         srfell17   \n",
       "\n",
       "        HelpfulnessNumerator  HelpfulnessDenominator  Score        Time  \\\n",
       "0                          1                       1      5  1303862400   \n",
       "1                          0                       0      1  1346976000   \n",
       "2                          1                       1      4  1219017600   \n",
       "3                          3                       3      2  1307923200   \n",
       "4                          0                       0      5  1350777600   \n",
       "...                      ...                     ...    ...         ...   \n",
       "568449                     0                       0      5  1299628800   \n",
       "568450                     0                       0      2  1331251200   \n",
       "568451                     2                       2      5  1329782400   \n",
       "568452                     1                       1      5  1331596800   \n",
       "568453                     0                       0      5  1338422400   \n",
       "\n",
       "                                   Summary  \\\n",
       "0                    Good Quality Dog Food   \n",
       "1                        Not as Advertised   \n",
       "2                    \"Delight\" says it all   \n",
       "3                           Cough Medicine   \n",
       "4                              Great taffy   \n",
       "...                                    ...   \n",
       "568449                 Will not do without   \n",
       "568450                        disappointed   \n",
       "568451            Perfect for our maltipoo   \n",
       "568452  Favorite Training and reward treat   \n",
       "568453                         Great Honey   \n",
       "\n",
       "                                                     Text  \n",
       "0       I have bought several of the Vitality canned d...  \n",
       "1       Product arrived labeled as Jumbo Salted Peanut...  \n",
       "2       This is a confection that has been around a fe...  \n",
       "3       If you are looking for the secret ingredient i...  \n",
       "4       Great taffy at a great price.  There was a wid...  \n",
       "...                                                   ...  \n",
       "568449  Great for sesame chicken..this is a good if no...  \n",
       "568450  I'm disappointed with the flavor. The chocolat...  \n",
       "568451  These stars are small, so you can give 10-15 o...  \n",
       "568452  These are the BEST treats for training and rew...  \n",
       "568453  I am very satisfied ,product is as advertised,...  \n",
       "\n",
       "[568454 rows x 10 columns]"
      ]
     },
     "execution_count": 3,
     "metadata": {},
     "output_type": "execute_result"
    }
   ],
   "source": [
    "df = pd.read_csv('Reviews.csv')\n",
    "df"
   ]
  },
  {
   "cell_type": "code",
   "execution_count": 4,
   "metadata": {
    "execution": {
     "iopub.execute_input": "2021-08-20T13:03:41.260112Z",
     "iopub.status.busy": "2021-08-20T13:03:41.259844Z",
     "iopub.status.idle": "2021-08-20T13:03:41.589834Z",
     "shell.execute_reply": "2021-08-20T13:03:41.588663Z",
     "shell.execute_reply.started": "2021-08-20T13:03:41.260086Z"
    }
   },
   "outputs": [
    {
     "name": "stdout",
     "output_type": "stream",
     "text": [
      "<class 'pandas.core.frame.DataFrame'>\n",
      "RangeIndex: 568454 entries, 0 to 568453\n",
      "Data columns (total 10 columns):\n",
      " #   Column                  Non-Null Count   Dtype \n",
      "---  ------                  --------------   ----- \n",
      " 0   Id                      568454 non-null  int64 \n",
      " 1   ProductId               568454 non-null  object\n",
      " 2   UserId                  568454 non-null  object\n",
      " 3   ProfileName             568438 non-null  object\n",
      " 4   HelpfulnessNumerator    568454 non-null  int64 \n",
      " 5   HelpfulnessDenominator  568454 non-null  int64 \n",
      " 6   Score                   568454 non-null  int64 \n",
      " 7   Time                    568454 non-null  int64 \n",
      " 8   Summary                 568427 non-null  object\n",
      " 9   Text                    568454 non-null  object\n",
      "dtypes: int64(5), object(5)\n",
      "memory usage: 43.4+ MB\n"
     ]
    }
   ],
   "source": [
    "df.info()"
   ]
  },
  {
   "cell_type": "code",
   "execution_count": 5,
   "metadata": {
    "execution": {
     "iopub.execute_input": "2021-08-20T13:03:41.591576Z",
     "iopub.status.busy": "2021-08-20T13:03:41.591265Z",
     "iopub.status.idle": "2021-08-20T13:03:41.706995Z",
     "shell.execute_reply": "2021-08-20T13:03:41.705762Z",
     "shell.execute_reply.started": "2021-08-20T13:03:41.591548Z"
    }
   },
   "outputs": [
    {
     "data": {
      "text/html": [
       "<div>\n",
       "<style scoped>\n",
       "    .dataframe tbody tr th:only-of-type {\n",
       "        vertical-align: middle;\n",
       "    }\n",
       "\n",
       "    .dataframe tbody tr th {\n",
       "        vertical-align: top;\n",
       "    }\n",
       "\n",
       "    .dataframe thead th {\n",
       "        text-align: right;\n",
       "    }\n",
       "</style>\n",
       "<table border=\"1\" class=\"dataframe\">\n",
       "  <thead>\n",
       "    <tr style=\"text-align: right;\">\n",
       "      <th></th>\n",
       "      <th>Id</th>\n",
       "      <th>HelpfulnessNumerator</th>\n",
       "      <th>HelpfulnessDenominator</th>\n",
       "      <th>Score</th>\n",
       "      <th>Time</th>\n",
       "    </tr>\n",
       "  </thead>\n",
       "  <tbody>\n",
       "    <tr>\n",
       "      <th>count</th>\n",
       "      <td>568454.000000</td>\n",
       "      <td>568454.000000</td>\n",
       "      <td>568454.00000</td>\n",
       "      <td>568454.000000</td>\n",
       "      <td>5.684540e+05</td>\n",
       "    </tr>\n",
       "    <tr>\n",
       "      <th>mean</th>\n",
       "      <td>284227.500000</td>\n",
       "      <td>1.743817</td>\n",
       "      <td>2.22881</td>\n",
       "      <td>4.183199</td>\n",
       "      <td>1.296257e+09</td>\n",
       "    </tr>\n",
       "    <tr>\n",
       "      <th>std</th>\n",
       "      <td>164098.679298</td>\n",
       "      <td>7.636513</td>\n",
       "      <td>8.28974</td>\n",
       "      <td>1.310436</td>\n",
       "      <td>4.804331e+07</td>\n",
       "    </tr>\n",
       "    <tr>\n",
       "      <th>min</th>\n",
       "      <td>1.000000</td>\n",
       "      <td>0.000000</td>\n",
       "      <td>0.00000</td>\n",
       "      <td>1.000000</td>\n",
       "      <td>9.393408e+08</td>\n",
       "    </tr>\n",
       "    <tr>\n",
       "      <th>25%</th>\n",
       "      <td>142114.250000</td>\n",
       "      <td>0.000000</td>\n",
       "      <td>0.00000</td>\n",
       "      <td>4.000000</td>\n",
       "      <td>1.271290e+09</td>\n",
       "    </tr>\n",
       "    <tr>\n",
       "      <th>50%</th>\n",
       "      <td>284227.500000</td>\n",
       "      <td>0.000000</td>\n",
       "      <td>1.00000</td>\n",
       "      <td>5.000000</td>\n",
       "      <td>1.311120e+09</td>\n",
       "    </tr>\n",
       "    <tr>\n",
       "      <th>75%</th>\n",
       "      <td>426340.750000</td>\n",
       "      <td>2.000000</td>\n",
       "      <td>2.00000</td>\n",
       "      <td>5.000000</td>\n",
       "      <td>1.332720e+09</td>\n",
       "    </tr>\n",
       "    <tr>\n",
       "      <th>max</th>\n",
       "      <td>568454.000000</td>\n",
       "      <td>866.000000</td>\n",
       "      <td>923.00000</td>\n",
       "      <td>5.000000</td>\n",
       "      <td>1.351210e+09</td>\n",
       "    </tr>\n",
       "  </tbody>\n",
       "</table>\n",
       "</div>"
      ],
      "text/plain": [
       "                  Id  HelpfulnessNumerator  HelpfulnessDenominator  \\\n",
       "count  568454.000000         568454.000000            568454.00000   \n",
       "mean   284227.500000              1.743817                 2.22881   \n",
       "std    164098.679298              7.636513                 8.28974   \n",
       "min         1.000000              0.000000                 0.00000   \n",
       "25%    142114.250000              0.000000                 0.00000   \n",
       "50%    284227.500000              0.000000                 1.00000   \n",
       "75%    426340.750000              2.000000                 2.00000   \n",
       "max    568454.000000            866.000000               923.00000   \n",
       "\n",
       "               Score          Time  \n",
       "count  568454.000000  5.684540e+05  \n",
       "mean        4.183199  1.296257e+09  \n",
       "std         1.310436  4.804331e+07  \n",
       "min         1.000000  9.393408e+08  \n",
       "25%         4.000000  1.271290e+09  \n",
       "50%         5.000000  1.311120e+09  \n",
       "75%         5.000000  1.332720e+09  \n",
       "max         5.000000  1.351210e+09  "
      ]
     },
     "execution_count": 5,
     "metadata": {},
     "output_type": "execute_result"
    }
   ],
   "source": [
    "df.describe()"
   ]
  },
  {
   "cell_type": "code",
   "execution_count": 6,
   "metadata": {
    "execution": {
     "iopub.execute_input": "2021-08-20T13:03:41.709343Z",
     "iopub.status.busy": "2021-08-20T13:03:41.708610Z",
     "iopub.status.idle": "2021-08-20T13:03:41.754980Z",
     "shell.execute_reply": "2021-08-20T13:03:41.753747Z",
     "shell.execute_reply.started": "2021-08-20T13:03:41.709284Z"
    }
   },
   "outputs": [
    {
     "data": {
      "text/html": [
       "<div>\n",
       "<style scoped>\n",
       "    .dataframe tbody tr th:only-of-type {\n",
       "        vertical-align: middle;\n",
       "    }\n",
       "\n",
       "    .dataframe tbody tr th {\n",
       "        vertical-align: top;\n",
       "    }\n",
       "\n",
       "    .dataframe thead th {\n",
       "        text-align: right;\n",
       "    }\n",
       "</style>\n",
       "<table border=\"1\" class=\"dataframe\">\n",
       "  <thead>\n",
       "    <tr style=\"text-align: right;\">\n",
       "      <th></th>\n",
       "      <th>Id</th>\n",
       "      <th>ProductId</th>\n",
       "      <th>UserId</th>\n",
       "      <th>ProfileName</th>\n",
       "      <th>HelpfulnessNumerator</th>\n",
       "      <th>HelpfulnessDenominator</th>\n",
       "      <th>Score</th>\n",
       "      <th>Time</th>\n",
       "      <th>Summary</th>\n",
       "      <th>Text</th>\n",
       "      <th>Helpful%</th>\n",
       "    </tr>\n",
       "  </thead>\n",
       "  <tbody>\n",
       "    <tr>\n",
       "      <th>0</th>\n",
       "      <td>1</td>\n",
       "      <td>B001E4KFG0</td>\n",
       "      <td>A3SGXH7AUHU8GW</td>\n",
       "      <td>delmartian</td>\n",
       "      <td>1</td>\n",
       "      <td>1</td>\n",
       "      <td>5</td>\n",
       "      <td>1303862400</td>\n",
       "      <td>Good Quality Dog Food</td>\n",
       "      <td>I have bought several of the Vitality canned d...</td>\n",
       "      <td>1.0</td>\n",
       "    </tr>\n",
       "    <tr>\n",
       "      <th>1</th>\n",
       "      <td>2</td>\n",
       "      <td>B00813GRG4</td>\n",
       "      <td>A1D87F6ZCVE5NK</td>\n",
       "      <td>dll pa</td>\n",
       "      <td>0</td>\n",
       "      <td>0</td>\n",
       "      <td>1</td>\n",
       "      <td>1346976000</td>\n",
       "      <td>Not as Advertised</td>\n",
       "      <td>Product arrived labeled as Jumbo Salted Peanut...</td>\n",
       "      <td>-1.0</td>\n",
       "    </tr>\n",
       "    <tr>\n",
       "      <th>2</th>\n",
       "      <td>3</td>\n",
       "      <td>B000LQOCH0</td>\n",
       "      <td>ABXLMWJIXXAIN</td>\n",
       "      <td>Natalia Corres \"Natalia Corres\"</td>\n",
       "      <td>1</td>\n",
       "      <td>1</td>\n",
       "      <td>4</td>\n",
       "      <td>1219017600</td>\n",
       "      <td>\"Delight\" says it all</td>\n",
       "      <td>This is a confection that has been around a fe...</td>\n",
       "      <td>1.0</td>\n",
       "    </tr>\n",
       "    <tr>\n",
       "      <th>3</th>\n",
       "      <td>4</td>\n",
       "      <td>B000UA0QIQ</td>\n",
       "      <td>A395BORC6FGVXV</td>\n",
       "      <td>Karl</td>\n",
       "      <td>3</td>\n",
       "      <td>3</td>\n",
       "      <td>2</td>\n",
       "      <td>1307923200</td>\n",
       "      <td>Cough Medicine</td>\n",
       "      <td>If you are looking for the secret ingredient i...</td>\n",
       "      <td>1.0</td>\n",
       "    </tr>\n",
       "    <tr>\n",
       "      <th>4</th>\n",
       "      <td>5</td>\n",
       "      <td>B006K2ZZ7K</td>\n",
       "      <td>A1UQRSCLF8GW1T</td>\n",
       "      <td>Michael D. Bigham \"M. Wassir\"</td>\n",
       "      <td>0</td>\n",
       "      <td>0</td>\n",
       "      <td>5</td>\n",
       "      <td>1350777600</td>\n",
       "      <td>Great taffy</td>\n",
       "      <td>Great taffy at a great price.  There was a wid...</td>\n",
       "      <td>-1.0</td>\n",
       "    </tr>\n",
       "  </tbody>\n",
       "</table>\n",
       "</div>"
      ],
      "text/plain": [
       "   Id   ProductId          UserId                      ProfileName  \\\n",
       "0   1  B001E4KFG0  A3SGXH7AUHU8GW                       delmartian   \n",
       "1   2  B00813GRG4  A1D87F6ZCVE5NK                           dll pa   \n",
       "2   3  B000LQOCH0   ABXLMWJIXXAIN  Natalia Corres \"Natalia Corres\"   \n",
       "3   4  B000UA0QIQ  A395BORC6FGVXV                             Karl   \n",
       "4   5  B006K2ZZ7K  A1UQRSCLF8GW1T    Michael D. Bigham \"M. Wassir\"   \n",
       "\n",
       "   HelpfulnessNumerator  HelpfulnessDenominator  Score        Time  \\\n",
       "0                     1                       1      5  1303862400   \n",
       "1                     0                       0      1  1346976000   \n",
       "2                     1                       1      4  1219017600   \n",
       "3                     3                       3      2  1307923200   \n",
       "4                     0                       0      5  1350777600   \n",
       "\n",
       "                 Summary                                               Text  \\\n",
       "0  Good Quality Dog Food  I have bought several of the Vitality canned d...   \n",
       "1      Not as Advertised  Product arrived labeled as Jumbo Salted Peanut...   \n",
       "2  \"Delight\" says it all  This is a confection that has been around a fe...   \n",
       "3         Cough Medicine  If you are looking for the secret ingredient i...   \n",
       "4            Great taffy  Great taffy at a great price.  There was a wid...   \n",
       "\n",
       "   Helpful%  \n",
       "0       1.0  \n",
       "1      -1.0  \n",
       "2       1.0  \n",
       "3       1.0  \n",
       "4      -1.0  "
      ]
     },
     "execution_count": 6,
     "metadata": {},
     "output_type": "execute_result"
    }
   ],
   "source": [
    "df['Helpful%']=np.where(df['HelpfulnessDenominator']>0,df['HelpfulnessNumerator']/df['HelpfulnessDenominator'],-1)\n",
    "df.head()"
   ]
  },
  {
   "cell_type": "code",
   "execution_count": 7,
   "metadata": {
    "execution": {
     "iopub.execute_input": "2021-08-20T13:03:41.758410Z",
     "iopub.status.busy": "2021-08-20T13:03:41.757942Z",
     "iopub.status.idle": "2021-08-20T13:03:41.783639Z",
     "shell.execute_reply": "2021-08-20T13:03:41.782687Z",
     "shell.execute_reply.started": "2021-08-20T13:03:41.758365Z"
    }
   },
   "outputs": [
    {
     "data": {
      "text/plain": [
       "-1.000000    270052\n",
       " 1.000000    183309\n",
       " 0.000000     33774\n",
       " 0.500000     21623\n",
       " 0.666667     10514\n",
       "              ...  \n",
       " 0.876033         1\n",
       " 0.893082         1\n",
       " 0.179487         1\n",
       " 0.924282         1\n",
       " 0.265625         1\n",
       "Name: Helpful%, Length: 952, dtype: int64"
      ]
     },
     "execution_count": 7,
     "metadata": {},
     "output_type": "execute_result"
    }
   ],
   "source": [
    "df['Helpful%'].value_counts()"
   ]
  },
  {
   "cell_type": "code",
   "execution_count": 8,
   "metadata": {
    "execution": {
     "iopub.execute_input": "2021-08-20T13:03:41.785739Z",
     "iopub.status.busy": "2021-08-20T13:03:41.785428Z",
     "iopub.status.idle": "2021-08-20T13:03:41.826295Z",
     "shell.execute_reply": "2021-08-20T13:03:41.825273Z",
     "shell.execute_reply.started": "2021-08-20T13:03:41.785710Z"
    }
   },
   "outputs": [
    {
     "data": {
      "text/html": [
       "<div>\n",
       "<style scoped>\n",
       "    .dataframe tbody tr th:only-of-type {\n",
       "        vertical-align: middle;\n",
       "    }\n",
       "\n",
       "    .dataframe tbody tr th {\n",
       "        vertical-align: top;\n",
       "    }\n",
       "\n",
       "    .dataframe thead th {\n",
       "        text-align: right;\n",
       "    }\n",
       "</style>\n",
       "<table border=\"1\" class=\"dataframe\">\n",
       "  <thead>\n",
       "    <tr style=\"text-align: right;\">\n",
       "      <th></th>\n",
       "      <th>Id</th>\n",
       "      <th>ProductId</th>\n",
       "      <th>UserId</th>\n",
       "      <th>ProfileName</th>\n",
       "      <th>HelpfulnessNumerator</th>\n",
       "      <th>HelpfulnessDenominator</th>\n",
       "      <th>Score</th>\n",
       "      <th>Time</th>\n",
       "      <th>Summary</th>\n",
       "      <th>Text</th>\n",
       "      <th>Helpful%</th>\n",
       "      <th>upvote%</th>\n",
       "    </tr>\n",
       "  </thead>\n",
       "  <tbody>\n",
       "    <tr>\n",
       "      <th>0</th>\n",
       "      <td>1</td>\n",
       "      <td>B001E4KFG0</td>\n",
       "      <td>A3SGXH7AUHU8GW</td>\n",
       "      <td>delmartian</td>\n",
       "      <td>1</td>\n",
       "      <td>1</td>\n",
       "      <td>5</td>\n",
       "      <td>1303862400</td>\n",
       "      <td>Good Quality Dog Food</td>\n",
       "      <td>I have bought several of the Vitality canned d...</td>\n",
       "      <td>1.0</td>\n",
       "      <td>80-100%</td>\n",
       "    </tr>\n",
       "    <tr>\n",
       "      <th>1</th>\n",
       "      <td>2</td>\n",
       "      <td>B00813GRG4</td>\n",
       "      <td>A1D87F6ZCVE5NK</td>\n",
       "      <td>dll pa</td>\n",
       "      <td>0</td>\n",
       "      <td>0</td>\n",
       "      <td>1</td>\n",
       "      <td>1346976000</td>\n",
       "      <td>Not as Advertised</td>\n",
       "      <td>Product arrived labeled as Jumbo Salted Peanut...</td>\n",
       "      <td>-1.0</td>\n",
       "      <td>NaN</td>\n",
       "    </tr>\n",
       "    <tr>\n",
       "      <th>2</th>\n",
       "      <td>3</td>\n",
       "      <td>B000LQOCH0</td>\n",
       "      <td>ABXLMWJIXXAIN</td>\n",
       "      <td>Natalia Corres \"Natalia Corres\"</td>\n",
       "      <td>1</td>\n",
       "      <td>1</td>\n",
       "      <td>4</td>\n",
       "      <td>1219017600</td>\n",
       "      <td>\"Delight\" says it all</td>\n",
       "      <td>This is a confection that has been around a fe...</td>\n",
       "      <td>1.0</td>\n",
       "      <td>80-100%</td>\n",
       "    </tr>\n",
       "    <tr>\n",
       "      <th>3</th>\n",
       "      <td>4</td>\n",
       "      <td>B000UA0QIQ</td>\n",
       "      <td>A395BORC6FGVXV</td>\n",
       "      <td>Karl</td>\n",
       "      <td>3</td>\n",
       "      <td>3</td>\n",
       "      <td>2</td>\n",
       "      <td>1307923200</td>\n",
       "      <td>Cough Medicine</td>\n",
       "      <td>If you are looking for the secret ingredient i...</td>\n",
       "      <td>1.0</td>\n",
       "      <td>80-100%</td>\n",
       "    </tr>\n",
       "    <tr>\n",
       "      <th>4</th>\n",
       "      <td>5</td>\n",
       "      <td>B006K2ZZ7K</td>\n",
       "      <td>A1UQRSCLF8GW1T</td>\n",
       "      <td>Michael D. Bigham \"M. Wassir\"</td>\n",
       "      <td>0</td>\n",
       "      <td>0</td>\n",
       "      <td>5</td>\n",
       "      <td>1350777600</td>\n",
       "      <td>Great taffy</td>\n",
       "      <td>Great taffy at a great price.  There was a wid...</td>\n",
       "      <td>-1.0</td>\n",
       "      <td>NaN</td>\n",
       "    </tr>\n",
       "  </tbody>\n",
       "</table>\n",
       "</div>"
      ],
      "text/plain": [
       "   Id   ProductId          UserId                      ProfileName  \\\n",
       "0   1  B001E4KFG0  A3SGXH7AUHU8GW                       delmartian   \n",
       "1   2  B00813GRG4  A1D87F6ZCVE5NK                           dll pa   \n",
       "2   3  B000LQOCH0   ABXLMWJIXXAIN  Natalia Corres \"Natalia Corres\"   \n",
       "3   4  B000UA0QIQ  A395BORC6FGVXV                             Karl   \n",
       "4   5  B006K2ZZ7K  A1UQRSCLF8GW1T    Michael D. Bigham \"M. Wassir\"   \n",
       "\n",
       "   HelpfulnessNumerator  HelpfulnessDenominator  Score        Time  \\\n",
       "0                     1                       1      5  1303862400   \n",
       "1                     0                       0      1  1346976000   \n",
       "2                     1                       1      4  1219017600   \n",
       "3                     3                       3      2  1307923200   \n",
       "4                     0                       0      5  1350777600   \n",
       "\n",
       "                 Summary                                               Text  \\\n",
       "0  Good Quality Dog Food  I have bought several of the Vitality canned d...   \n",
       "1      Not as Advertised  Product arrived labeled as Jumbo Salted Peanut...   \n",
       "2  \"Delight\" says it all  This is a confection that has been around a fe...   \n",
       "3         Cough Medicine  If you are looking for the secret ingredient i...   \n",
       "4            Great taffy  Great taffy at a great price.  There was a wid...   \n",
       "\n",
       "   Helpful%  upvote%  \n",
       "0       1.0  80-100%  \n",
       "1      -1.0      NaN  \n",
       "2       1.0  80-100%  \n",
       "3       1.0  80-100%  \n",
       "4      -1.0      NaN  "
      ]
     },
     "execution_count": 8,
     "metadata": {},
     "output_type": "execute_result"
    }
   ],
   "source": [
    "df['upvote%']=pd.cut(df['Helpful%'],bins=[-1,0,0.2,0.4,0.6,0.8,1], labels=['Empty','0-20%','20-40%','40-60%','60-80%','80-100%'])\n",
    "df.head()                           #Bin labels must be one fewer than the number of bin edges"
   ]
  },
  {
   "cell_type": "code",
   "execution_count": 9,
   "metadata": {
    "execution": {
     "iopub.execute_input": "2021-08-20T13:03:41.828526Z",
     "iopub.status.busy": "2021-08-20T13:03:41.828071Z",
     "iopub.status.idle": "2021-08-20T13:03:41.888730Z",
     "shell.execute_reply": "2021-08-20T13:03:41.887672Z",
     "shell.execute_reply.started": "2021-08-20T13:03:41.828477Z"
    }
   },
   "outputs": [
    {
     "data": {
      "text/html": [
       "<div>\n",
       "<style scoped>\n",
       "    .dataframe tbody tr th:only-of-type {\n",
       "        vertical-align: middle;\n",
       "    }\n",
       "\n",
       "    .dataframe tbody tr th {\n",
       "        vertical-align: top;\n",
       "    }\n",
       "\n",
       "    .dataframe thead th {\n",
       "        text-align: right;\n",
       "    }\n",
       "</style>\n",
       "<table border=\"1\" class=\"dataframe\">\n",
       "  <thead>\n",
       "    <tr style=\"text-align: right;\">\n",
       "      <th></th>\n",
       "      <th></th>\n",
       "      <th>Id</th>\n",
       "    </tr>\n",
       "    <tr>\n",
       "      <th>Score</th>\n",
       "      <th>upvote%</th>\n",
       "      <th></th>\n",
       "    </tr>\n",
       "  </thead>\n",
       "  <tbody>\n",
       "    <tr>\n",
       "      <th rowspan=\"6\" valign=\"top\">1</th>\n",
       "      <th>Empty</th>\n",
       "      <td>8060</td>\n",
       "    </tr>\n",
       "    <tr>\n",
       "      <th>0-20%</th>\n",
       "      <td>2338</td>\n",
       "    </tr>\n",
       "    <tr>\n",
       "      <th>20-40%</th>\n",
       "      <td>4649</td>\n",
       "    </tr>\n",
       "    <tr>\n",
       "      <th>40-60%</th>\n",
       "      <td>6586</td>\n",
       "    </tr>\n",
       "    <tr>\n",
       "      <th>60-80%</th>\n",
       "      <td>5838</td>\n",
       "    </tr>\n",
       "    <tr>\n",
       "      <th>80-100%</th>\n",
       "      <td>12531</td>\n",
       "    </tr>\n",
       "    <tr>\n",
       "      <th rowspan=\"6\" valign=\"top\">2</th>\n",
       "      <th>Empty</th>\n",
       "      <td>4234</td>\n",
       "    </tr>\n",
       "    <tr>\n",
       "      <th>0-20%</th>\n",
       "      <td>762</td>\n",
       "    </tr>\n",
       "    <tr>\n",
       "      <th>20-40%</th>\n",
       "      <td>1618</td>\n",
       "    </tr>\n",
       "    <tr>\n",
       "      <th>40-60%</th>\n",
       "      <td>3051</td>\n",
       "    </tr>\n",
       "    <tr>\n",
       "      <th>60-80%</th>\n",
       "      <td>2486</td>\n",
       "    </tr>\n",
       "    <tr>\n",
       "      <th>80-100%</th>\n",
       "      <td>7014</td>\n",
       "    </tr>\n",
       "    <tr>\n",
       "      <th rowspan=\"6\" valign=\"top\">3</th>\n",
       "      <th>Empty</th>\n",
       "      <td>5062</td>\n",
       "    </tr>\n",
       "    <tr>\n",
       "      <th>0-20%</th>\n",
       "      <td>474</td>\n",
       "    </tr>\n",
       "    <tr>\n",
       "      <th>20-40%</th>\n",
       "      <td>1506</td>\n",
       "    </tr>\n",
       "    <tr>\n",
       "      <th>40-60%</th>\n",
       "      <td>3384</td>\n",
       "    </tr>\n",
       "    <tr>\n",
       "      <th>60-80%</th>\n",
       "      <td>2754</td>\n",
       "    </tr>\n",
       "    <tr>\n",
       "      <th>80-100%</th>\n",
       "      <td>11037</td>\n",
       "    </tr>\n",
       "    <tr>\n",
       "      <th rowspan=\"6\" valign=\"top\">4</th>\n",
       "      <th>Empty</th>\n",
       "      <td>4780</td>\n",
       "    </tr>\n",
       "    <tr>\n",
       "      <th>0-20%</th>\n",
       "      <td>116</td>\n",
       "    </tr>\n",
       "    <tr>\n",
       "      <th>20-40%</th>\n",
       "      <td>909</td>\n",
       "    </tr>\n",
       "    <tr>\n",
       "      <th>40-60%</th>\n",
       "      <td>3185</td>\n",
       "    </tr>\n",
       "    <tr>\n",
       "      <th>60-80%</th>\n",
       "      <td>2941</td>\n",
       "    </tr>\n",
       "    <tr>\n",
       "      <th>80-100%</th>\n",
       "      <td>26707</td>\n",
       "    </tr>\n",
       "    <tr>\n",
       "      <th rowspan=\"6\" valign=\"top\">5</th>\n",
       "      <th>Empty</th>\n",
       "      <td>11638</td>\n",
       "    </tr>\n",
       "    <tr>\n",
       "      <th>0-20%</th>\n",
       "      <td>432</td>\n",
       "    </tr>\n",
       "    <tr>\n",
       "      <th>20-40%</th>\n",
       "      <td>2275</td>\n",
       "    </tr>\n",
       "    <tr>\n",
       "      <th>40-60%</th>\n",
       "      <td>10312</td>\n",
       "    </tr>\n",
       "    <tr>\n",
       "      <th>60-80%</th>\n",
       "      <td>11060</td>\n",
       "    </tr>\n",
       "    <tr>\n",
       "      <th>80-100%</th>\n",
       "      <td>140661</td>\n",
       "    </tr>\n",
       "  </tbody>\n",
       "</table>\n",
       "</div>"
      ],
      "text/plain": [
       "                   Id\n",
       "Score upvote%        \n",
       "1     Empty      8060\n",
       "      0-20%      2338\n",
       "      20-40%     4649\n",
       "      40-60%     6586\n",
       "      60-80%     5838\n",
       "      80-100%   12531\n",
       "2     Empty      4234\n",
       "      0-20%       762\n",
       "      20-40%     1618\n",
       "      40-60%     3051\n",
       "      60-80%     2486\n",
       "      80-100%    7014\n",
       "3     Empty      5062\n",
       "      0-20%       474\n",
       "      20-40%     1506\n",
       "      40-60%     3384\n",
       "      60-80%     2754\n",
       "      80-100%   11037\n",
       "4     Empty      4780\n",
       "      0-20%       116\n",
       "      20-40%      909\n",
       "      40-60%     3185\n",
       "      60-80%     2941\n",
       "      80-100%   26707\n",
       "5     Empty     11638\n",
       "      0-20%       432\n",
       "      20-40%     2275\n",
       "      40-60%    10312\n",
       "      60-80%    11060\n",
       "      80-100%  140661"
      ]
     },
     "execution_count": 9,
     "metadata": {},
     "output_type": "execute_result"
    }
   ],
   "source": [
    "df.groupby(['Score','upvote%']).agg({'Id':'count'})"
   ]
  },
  {
   "cell_type": "code",
   "execution_count": 10,
   "metadata": {
    "execution": {
     "iopub.execute_input": "2021-08-20T13:03:41.890343Z",
     "iopub.status.busy": "2021-08-20T13:03:41.890016Z",
     "iopub.status.idle": "2021-08-20T13:03:41.946068Z",
     "shell.execute_reply": "2021-08-20T13:03:41.944742Z",
     "shell.execute_reply.started": "2021-08-20T13:03:41.890311Z"
    }
   },
   "outputs": [
    {
     "data": {
      "text/html": [
       "<div>\n",
       "<style scoped>\n",
       "    .dataframe tbody tr th:only-of-type {\n",
       "        vertical-align: middle;\n",
       "    }\n",
       "\n",
       "    .dataframe tbody tr th {\n",
       "        vertical-align: top;\n",
       "    }\n",
       "\n",
       "    .dataframe thead tr th {\n",
       "        text-align: left;\n",
       "    }\n",
       "\n",
       "    .dataframe thead tr:last-of-type th {\n",
       "        text-align: right;\n",
       "    }\n",
       "</style>\n",
       "<table border=\"1\" class=\"dataframe\">\n",
       "  <thead>\n",
       "    <tr>\n",
       "      <th></th>\n",
       "      <th colspan=\"5\" halign=\"left\">Id</th>\n",
       "    </tr>\n",
       "    <tr>\n",
       "      <th>Score</th>\n",
       "      <th>1</th>\n",
       "      <th>2</th>\n",
       "      <th>3</th>\n",
       "      <th>4</th>\n",
       "      <th>5</th>\n",
       "    </tr>\n",
       "    <tr>\n",
       "      <th>upvote%</th>\n",
       "      <th></th>\n",
       "      <th></th>\n",
       "      <th></th>\n",
       "      <th></th>\n",
       "      <th></th>\n",
       "    </tr>\n",
       "  </thead>\n",
       "  <tbody>\n",
       "    <tr>\n",
       "      <th>Empty</th>\n",
       "      <td>8060</td>\n",
       "      <td>4234</td>\n",
       "      <td>5062</td>\n",
       "      <td>4780</td>\n",
       "      <td>11638</td>\n",
       "    </tr>\n",
       "    <tr>\n",
       "      <th>0-20%</th>\n",
       "      <td>2338</td>\n",
       "      <td>762</td>\n",
       "      <td>474</td>\n",
       "      <td>116</td>\n",
       "      <td>432</td>\n",
       "    </tr>\n",
       "    <tr>\n",
       "      <th>20-40%</th>\n",
       "      <td>4649</td>\n",
       "      <td>1618</td>\n",
       "      <td>1506</td>\n",
       "      <td>909</td>\n",
       "      <td>2275</td>\n",
       "    </tr>\n",
       "    <tr>\n",
       "      <th>40-60%</th>\n",
       "      <td>6586</td>\n",
       "      <td>3051</td>\n",
       "      <td>3384</td>\n",
       "      <td>3185</td>\n",
       "      <td>10312</td>\n",
       "    </tr>\n",
       "    <tr>\n",
       "      <th>60-80%</th>\n",
       "      <td>5838</td>\n",
       "      <td>2486</td>\n",
       "      <td>2754</td>\n",
       "      <td>2941</td>\n",
       "      <td>11060</td>\n",
       "    </tr>\n",
       "    <tr>\n",
       "      <th>80-100%</th>\n",
       "      <td>12531</td>\n",
       "      <td>7014</td>\n",
       "      <td>11037</td>\n",
       "      <td>26707</td>\n",
       "      <td>140661</td>\n",
       "    </tr>\n",
       "  </tbody>\n",
       "</table>\n",
       "</div>"
      ],
      "text/plain": [
       "            Id                            \n",
       "Score        1     2      3      4       5\n",
       "upvote%                                   \n",
       "Empty     8060  4234   5062   4780   11638\n",
       "0-20%     2338   762    474    116     432\n",
       "20-40%    4649  1618   1506    909    2275\n",
       "40-60%    6586  3051   3384   3185   10312\n",
       "60-80%    5838  2486   2754   2941   11060\n",
       "80-100%  12531  7014  11037  26707  140661"
      ]
     },
     "execution_count": 10,
     "metadata": {},
     "output_type": "execute_result"
    }
   ],
   "source": [
    "df_s=df.groupby(['Score','upvote%']).agg({'Id':'count'}).reset_index()\n",
    "pivot = df_s.pivot(index='upvote%',columns='Score')\n",
    "pivot"
   ]
  },
  {
   "cell_type": "code",
   "execution_count": 11,
   "metadata": {
    "execution": {
     "iopub.execute_input": "2021-08-20T13:03:41.947855Z",
     "iopub.status.busy": "2021-08-20T13:03:41.947492Z",
     "iopub.status.idle": "2021-08-20T13:03:42.376437Z",
     "shell.execute_reply": "2021-08-20T13:03:42.375761Z",
     "shell.execute_reply.started": "2021-08-20T13:03:41.947822Z"
    }
   },
   "outputs": [
    {
     "data": {
      "text/plain": [
       "<AxesSubplot:xlabel='None-Score', ylabel='upvote%'>"
      ]
     },
     "execution_count": 11,
     "metadata": {},
     "output_type": "execute_result"
    },
    {
     "data": {
      "image/png": "[encoded data removed]",
      "text/plain": [
       "<Figure size 432x288 with 2 Axes>"
      ]
     },
     "metadata": {
      "needs_background": "light"
     },
     "output_type": "display_data"
    }
   ],
   "source": [
    "sns.heatmap(pivot, annot= True, cmap='YlGnBu')"
   ]
  },
  {
   "cell_type": "markdown",
   "metadata": {},
   "source": [
    "More number of people had given positive ratings i.e. score=5"
   ]
  },
  {
   "cell_type": "markdown",
   "metadata": {},
   "source": [
    "**Ignoring datapoints with score=3**"
   ]
  },
  {
   "cell_type": "code",
   "execution_count": 12,
   "metadata": {
    "execution": {
     "iopub.execute_input": "2021-08-20T13:03:42.377811Z",
     "iopub.status.busy": "2021-08-20T13:03:42.377418Z",
     "iopub.status.idle": "2021-08-20T13:03:42.452531Z",
     "shell.execute_reply": "2021-08-20T13:03:42.451797Z",
     "shell.execute_reply.started": "2021-08-20T13:03:42.377781Z"
    }
   },
   "outputs": [],
   "source": [
    "df2=df[df['Score']!=3]"
   ]
  },
  {
   "cell_type": "markdown",
   "metadata": {},
   "source": [
    "**Splitting dataset into X and Y**"
   ]
  },
  {
   "cell_type": "code",
   "execution_count": 13,
   "metadata": {
    "execution": {
     "iopub.execute_input": "2021-08-20T13:03:42.454052Z",
     "iopub.status.busy": "2021-08-20T13:03:42.453602Z",
     "iopub.status.idle": "2021-08-20T13:03:42.458235Z",
     "shell.execute_reply": "2021-08-20T13:03:42.457233Z",
     "shell.execute_reply.started": "2021-08-20T13:03:42.454020Z"
    }
   },
   "outputs": [],
   "source": [
    "x=df2['Text']\n",
    "y=df2['Score']"
   ]
  },
  {
   "cell_type": "code",
   "execution_count": 14,
   "metadata": {
    "execution": {
     "iopub.execute_input": "2021-08-20T13:03:42.459885Z",
     "iopub.status.busy": "2021-08-20T13:03:42.459537Z",
     "iopub.status.idle": "2021-08-20T13:03:42.481280Z",
     "shell.execute_reply": "2021-08-20T13:03:42.480087Z",
     "shell.execute_reply.started": "2021-08-20T13:03:42.459855Z"
    }
   },
   "outputs": [],
   "source": [
    "y_dict = {1:0,2:0,4:1,5:1}\n",
    "y=df2['Score'].map(y_dict)\n"
   ]
  },
  {
   "cell_type": "markdown",
   "metadata": {},
   "source": [
    "## Feature Extraction"
   ]
  },
  {
   "cell_type": "markdown",
   "metadata": {},
   "source": [
    "### - Bag of Words"
   ]
  },
  {
   "cell_type": "code",
   "execution_count": 15,
   "metadata": {
    "execution": {
     "iopub.execute_input": "2021-08-20T13:03:42.483162Z",
     "iopub.status.busy": "2021-08-20T13:03:42.482854Z",
     "iopub.status.idle": "2021-08-20T13:03:42.633296Z",
     "shell.execute_reply": "2021-08-20T13:03:42.632333Z",
     "shell.execute_reply.started": "2021-08-20T13:03:42.483132Z"
    }
   },
   "outputs": [],
   "source": [
    "from sklearn.feature_extraction.text import CountVectorizer"
   ]
  },
  {
   "cell_type": "code",
   "execution_count": 16,
   "metadata": {
    "execution": {
     "iopub.execute_input": "2021-08-20T13:03:42.634823Z",
     "iopub.status.busy": "2021-08-20T13:03:42.634525Z",
     "iopub.status.idle": "2021-08-20T13:03:42.638971Z",
     "shell.execute_reply": "2021-08-20T13:03:42.637871Z",
     "shell.execute_reply.started": "2021-08-20T13:03:42.634796Z"
    }
   },
   "outputs": [],
   "source": [
    "c = CountVectorizer(stop_words='english')                  # to ignore all english stopwords"
   ]
  },
  {
   "cell_type": "code",
   "execution_count": 17,
   "metadata": {
    "execution": {
     "iopub.execute_input": "2021-08-20T13:03:42.640644Z",
     "iopub.status.busy": "2021-08-20T13:03:42.640332Z",
     "iopub.status.idle": "2021-08-20T13:04:24.588659Z",
     "shell.execute_reply": "2021-08-20T13:04:24.587580Z",
     "shell.execute_reply.started": "2021-08-20T13:03:42.640596Z"
    }
   },
   "outputs": [],
   "source": [
    "x_c = c.fit_transform(x)"
   ]
  },
  {
   "cell_type": "code",
   "execution_count": 18,
   "metadata": {
    "execution": {
     "iopub.execute_input": "2021-08-20T13:04:24.590357Z",
     "iopub.status.busy": "2021-08-20T13:04:24.590045Z",
     "iopub.status.idle": "2021-08-20T13:04:24.595284Z",
     "shell.execute_reply": "2021-08-20T13:04:24.594665Z",
     "shell.execute_reply.started": "2021-08-20T13:04:24.590325Z"
    }
   },
   "outputs": [
    {
     "data": {
      "text/plain": [
       "(525814, 114969)"
      ]
     },
     "execution_count": 18,
     "metadata": {},
     "output_type": "execute_result"
    }
   ],
   "source": [
    "x_c.shape"
   ]
  },
  {
   "cell_type": "code",
   "execution_count": 19,
   "metadata": {
    "execution": {
     "iopub.execute_input": "2021-08-20T13:04:24.599017Z",
     "iopub.status.busy": "2021-08-20T13:04:24.598561Z",
     "iopub.status.idle": "2021-08-20T13:04:24.657857Z",
     "shell.execute_reply": "2021-08-20T13:04:24.656939Z",
     "shell.execute_reply.started": "2021-08-20T13:04:24.598987Z"
    }
   },
   "outputs": [],
   "source": [
    "from sklearn.model_selection import train_test_split"
   ]
  },
  {
   "cell_type": "code",
   "execution_count": 20,
   "metadata": {
    "execution": {
     "iopub.execute_input": "2021-08-20T13:04:24.659881Z",
     "iopub.status.busy": "2021-08-20T13:04:24.659440Z",
     "iopub.status.idle": "2021-08-20T13:04:24.812790Z",
     "shell.execute_reply": "2021-08-20T13:04:24.811758Z",
     "shell.execute_reply.started": "2021-08-20T13:04:24.659851Z"
    }
   },
   "outputs": [],
   "source": [
    "x_train,x_test,y_train,y_test = train_test_split(x_c,y)"
   ]
  },
  {
   "cell_type": "markdown",
   "metadata": {},
   "source": [
    "### Logistic Regression on Bag of Words"
   ]
  },
  {
   "cell_type": "code",
   "execution_count": 21,
   "metadata": {
    "execution": {
     "iopub.execute_input": "2021-08-20T13:04:24.814195Z",
     "iopub.status.busy": "2021-08-20T13:04:24.813910Z",
     "iopub.status.idle": "2021-08-20T13:04:24.893971Z",
     "shell.execute_reply": "2021-08-20T13:04:24.892973Z",
     "shell.execute_reply.started": "2021-08-20T13:04:24.814168Z"
    }
   },
   "outputs": [],
   "source": [
    "from sklearn.linear_model import LogisticRegression"
   ]
  },
  {
   "cell_type": "code",
   "execution_count": 22,
   "metadata": {
    "execution": {
     "iopub.execute_input": "2021-08-20T13:04:24.895425Z",
     "iopub.status.busy": "2021-08-20T13:04:24.895121Z",
     "iopub.status.idle": "2021-08-20T13:04:24.899668Z",
     "shell.execute_reply": "2021-08-20T13:04:24.898686Z",
     "shell.execute_reply.started": "2021-08-20T13:04:24.895394Z"
    }
   },
   "outputs": [],
   "source": [
    "log = LogisticRegression(solver='liblinear')"
   ]
  },
  {
   "cell_type": "code",
   "execution_count": 23,
   "metadata": {
    "execution": {
     "iopub.execute_input": "2021-08-20T13:04:24.901268Z",
     "iopub.status.busy": "2021-08-20T13:04:24.900913Z",
     "iopub.status.idle": "2021-08-20T13:06:12.560729Z",
     "shell.execute_reply": "2021-08-20T13:06:12.559807Z",
     "shell.execute_reply.started": "2021-08-20T13:04:24.901239Z"
    }
   },
   "outputs": [],
   "source": [
    "ml = log.fit(x_train, y_train)"
   ]
  },
  {
   "cell_type": "code",
   "execution_count": 24,
   "metadata": {
    "execution": {
     "iopub.execute_input": "2021-08-20T13:06:12.562252Z",
     "iopub.status.busy": "2021-08-20T13:06:12.561819Z",
     "iopub.status.idle": "2021-08-20T13:06:12.605322Z",
     "shell.execute_reply": "2021-08-20T13:06:12.604163Z",
     "shell.execute_reply.started": "2021-08-20T13:06:12.562222Z"
    }
   },
   "outputs": [
    {
     "data": {
      "text/plain": [
       "0.9380163403167648"
      ]
     },
     "execution_count": 24,
     "metadata": {},
     "output_type": "execute_result"
    }
   ],
   "source": [
    "ml.score(x_test,y_test)"
   ]
  },
  {
   "cell_type": "code",
   "execution_count": 25,
   "metadata": {
    "execution": {
     "iopub.execute_input": "2021-08-20T13:06:12.607212Z",
     "iopub.status.busy": "2021-08-20T13:06:12.606726Z",
     "iopub.status.idle": "2021-08-20T13:06:12.727792Z",
     "shell.execute_reply": "2021-08-20T13:06:12.726982Z",
     "shell.execute_reply.started": "2021-08-20T13:06:12.607161Z"
    }
   },
   "outputs": [],
   "source": [
    "w = c.get_feature_names()\n",
    "#w                      ['00','000','0000','000001','00001','000013','0000soo','0001', '000111052','0002251337','0003','0004',..........]"
   ]
  },
  {
   "cell_type": "code",
   "execution_count": 26,
   "metadata": {
    "execution": {
     "iopub.execute_input": "2021-08-20T13:06:12.729315Z",
     "iopub.status.busy": "2021-08-20T13:06:12.728873Z",
     "iopub.status.idle": "2021-08-20T13:06:12.737546Z",
     "shell.execute_reply": "2021-08-20T13:06:12.736720Z",
     "shell.execute_reply.started": "2021-08-20T13:06:12.729270Z"
    }
   },
   "outputs": [],
   "source": [
    "coef = ml.coef_.tolist()[0]\n",
    "#coef           [-0.37943545710075455, -0.08398146812595073, 0.43943968799955097,......]"
   ]
  },
  {
   "cell_type": "code",
   "execution_count": 27,
   "metadata": {
    "execution": {
     "iopub.execute_input": "2021-08-20T13:06:12.739213Z",
     "iopub.status.busy": "2021-08-20T13:06:12.738756Z",
     "iopub.status.idle": "2021-08-20T13:06:12.818069Z",
     "shell.execute_reply": "2021-08-20T13:06:12.816999Z",
     "shell.execute_reply.started": "2021-08-20T13:06:12.739173Z"
    }
   },
   "outputs": [
    {
     "data": {
      "text/html": [
       "<div>\n",
       "<style scoped>\n",
       "    .dataframe tbody tr th:only-of-type {\n",
       "        vertical-align: middle;\n",
       "    }\n",
       "\n",
       "    .dataframe tbody tr th {\n",
       "        vertical-align: top;\n",
       "    }\n",
       "\n",
       "    .dataframe thead th {\n",
       "        text-align: right;\n",
       "    }\n",
       "</style>\n",
       "<table border=\"1\" class=\"dataframe\">\n",
       "  <thead>\n",
       "    <tr style=\"text-align: right;\">\n",
       "      <th></th>\n",
       "      <th>Word</th>\n",
       "      <th>Coefficient</th>\n",
       "    </tr>\n",
       "  </thead>\n",
       "  <tbody>\n",
       "    <tr>\n",
       "      <th>0</th>\n",
       "      <td>00</td>\n",
       "      <td>-0.356075</td>\n",
       "    </tr>\n",
       "    <tr>\n",
       "      <th>1</th>\n",
       "      <td>000</td>\n",
       "      <td>0.098057</td>\n",
       "    </tr>\n",
       "    <tr>\n",
       "      <th>2</th>\n",
       "      <td>0000</td>\n",
       "      <td>0.779949</td>\n",
       "    </tr>\n",
       "    <tr>\n",
       "      <th>3</th>\n",
       "      <td>000001</td>\n",
       "      <td>0.000000</td>\n",
       "    </tr>\n",
       "    <tr>\n",
       "      <th>4</th>\n",
       "      <td>00001</td>\n",
       "      <td>-0.026896</td>\n",
       "    </tr>\n",
       "    <tr>\n",
       "      <th>...</th>\n",
       "      <td>...</td>\n",
       "      <td>...</td>\n",
       "    </tr>\n",
       "    <tr>\n",
       "      <th>114964</th>\n",
       "      <td>çaykur</td>\n",
       "      <td>0.001857</td>\n",
       "    </tr>\n",
       "    <tr>\n",
       "      <th>114965</th>\n",
       "      <td>çelem</td>\n",
       "      <td>-0.180591</td>\n",
       "    </tr>\n",
       "    <tr>\n",
       "      <th>114966</th>\n",
       "      <td>être</td>\n",
       "      <td>0.000000</td>\n",
       "    </tr>\n",
       "    <tr>\n",
       "      <th>114967</th>\n",
       "      <td>île</td>\n",
       "      <td>0.007142</td>\n",
       "    </tr>\n",
       "    <tr>\n",
       "      <th>114968</th>\n",
       "      <td>ît</td>\n",
       "      <td>0.000765</td>\n",
       "    </tr>\n",
       "  </tbody>\n",
       "</table>\n",
       "<p>114969 rows × 2 columns</p>\n",
       "</div>"
      ],
      "text/plain": [
       "          Word  Coefficient\n",
       "0           00    -0.356075\n",
       "1          000     0.098057\n",
       "2         0000     0.779949\n",
       "3       000001     0.000000\n",
       "4        00001    -0.026896\n",
       "...        ...          ...\n",
       "114964  çaykur     0.001857\n",
       "114965   çelem    -0.180591\n",
       "114966    être     0.000000\n",
       "114967     île     0.007142\n",
       "114968      ît     0.000765\n",
       "\n",
       "[114969 rows x 2 columns]"
      ]
     },
     "execution_count": 27,
     "metadata": {},
     "output_type": "execute_result"
    }
   ],
   "source": [
    "coef_df = pd.DataFrame({'Word':w, 'Coefficient':coef})\n",
    "coef_df"
   ]
  },
  {
   "cell_type": "code",
   "execution_count": 28,
   "metadata": {
    "execution": {
     "iopub.execute_input": "2021-08-20T13:06:12.821017Z",
     "iopub.status.busy": "2021-08-20T13:06:12.820576Z",
     "iopub.status.idle": "2021-08-20T13:06:13.141429Z",
     "shell.execute_reply": "2021-08-20T13:06:13.140374Z",
     "shell.execute_reply.started": "2021-08-20T13:06:12.820973Z"
    }
   },
   "outputs": [],
   "source": [
    "coef_df=coef_df.sort_values(['Coefficient','Word'],ascending=False)"
   ]
  },
  {
   "cell_type": "code",
   "execution_count": 29,
   "metadata": {
    "execution": {
     "iopub.execute_input": "2021-08-20T13:06:13.142826Z",
     "iopub.status.busy": "2021-08-20T13:06:13.142535Z",
     "iopub.status.idle": "2021-08-20T13:06:13.155458Z",
     "shell.execute_reply": "2021-08-20T13:06:13.154543Z",
     "shell.execute_reply.started": "2021-08-20T13:06:13.142799Z"
    }
   },
   "outputs": [
    {
     "data": {
      "text/html": [
       "<div>\n",
       "<style scoped>\n",
       "    .dataframe tbody tr th:only-of-type {\n",
       "        vertical-align: middle;\n",
       "    }\n",
       "\n",
       "    .dataframe tbody tr th {\n",
       "        vertical-align: top;\n",
       "    }\n",
       "\n",
       "    .dataframe thead th {\n",
       "        text-align: right;\n",
       "    }\n",
       "</style>\n",
       "<table border=\"1\" class=\"dataframe\">\n",
       "  <thead>\n",
       "    <tr style=\"text-align: right;\">\n",
       "      <th></th>\n",
       "      <th>Word</th>\n",
       "      <th>Coefficient</th>\n",
       "    </tr>\n",
       "  </thead>\n",
       "  <tbody>\n",
       "    <tr>\n",
       "      <th>80600</th>\n",
       "      <td>pleasantly</td>\n",
       "      <td>2.920145</td>\n",
       "    </tr>\n",
       "    <tr>\n",
       "      <th>96145</th>\n",
       "      <td>solving</td>\n",
       "      <td>2.563920</td>\n",
       "    </tr>\n",
       "    <tr>\n",
       "      <th>20268</th>\n",
       "      <td>bertie</td>\n",
       "      <td>2.467199</td>\n",
       "    </tr>\n",
       "    <tr>\n",
       "      <th>39072</th>\n",
       "      <td>downside</td>\n",
       "      <td>2.436337</td>\n",
       "    </tr>\n",
       "    <tr>\n",
       "      <th>5865</th>\n",
       "      <td>addicting</td>\n",
       "      <td>2.381413</td>\n",
       "    </tr>\n",
       "    <tr>\n",
       "      <th>94680</th>\n",
       "      <td>skewed</td>\n",
       "      <td>2.357380</td>\n",
       "    </tr>\n",
       "    <tr>\n",
       "      <th>55029</th>\n",
       "      <td>hooked</td>\n",
       "      <td>2.285694</td>\n",
       "    </tr>\n",
       "    <tr>\n",
       "      <th>39214</th>\n",
       "      <td>drawback</td>\n",
       "      <td>2.254245</td>\n",
       "    </tr>\n",
       "    <tr>\n",
       "      <th>35726</th>\n",
       "      <td>delish</td>\n",
       "      <td>2.228296</td>\n",
       "    </tr>\n",
       "    <tr>\n",
       "      <th>40135</th>\n",
       "      <td>easiest</td>\n",
       "      <td>2.201362</td>\n",
       "    </tr>\n",
       "    <tr>\n",
       "      <th>94667</th>\n",
       "      <td>skeptical</td>\n",
       "      <td>2.152273</td>\n",
       "    </tr>\n",
       "    <tr>\n",
       "      <th>108387</th>\n",
       "      <td>unwrapping</td>\n",
       "      <td>2.098336</td>\n",
       "    </tr>\n",
       "    <tr>\n",
       "      <th>113138</th>\n",
       "      <td>worries</td>\n",
       "      <td>2.077665</td>\n",
       "    </tr>\n",
       "    <tr>\n",
       "      <th>20924</th>\n",
       "      <td>biscoff</td>\n",
       "      <td>2.064242</td>\n",
       "    </tr>\n",
       "    <tr>\n",
       "      <th>35646</th>\n",
       "      <td>deliciousness</td>\n",
       "      <td>2.039803</td>\n",
       "    </tr>\n",
       "    <tr>\n",
       "      <th>97889</th>\n",
       "      <td>stacked</td>\n",
       "      <td>2.014374</td>\n",
       "    </tr>\n",
       "    <tr>\n",
       "      <th>43212</th>\n",
       "      <td>excellant</td>\n",
       "      <td>2.012349</td>\n",
       "    </tr>\n",
       "    <tr>\n",
       "      <th>63800</th>\n",
       "      <td>lifesaver</td>\n",
       "      <td>1.934945</td>\n",
       "    </tr>\n",
       "    <tr>\n",
       "      <th>87233</th>\n",
       "      <td>relieved</td>\n",
       "      <td>1.930271</td>\n",
       "    </tr>\n",
       "    <tr>\n",
       "      <th>53610</th>\n",
       "      <td>heartier</td>\n",
       "      <td>1.926542</td>\n",
       "    </tr>\n",
       "  </tbody>\n",
       "</table>\n",
       "</div>"
      ],
      "text/plain": [
       "                 Word  Coefficient\n",
       "80600      pleasantly     2.920145\n",
       "96145         solving     2.563920\n",
       "20268          bertie     2.467199\n",
       "39072        downside     2.436337\n",
       "5865        addicting     2.381413\n",
       "94680          skewed     2.357380\n",
       "55029          hooked     2.285694\n",
       "39214        drawback     2.254245\n",
       "35726          delish     2.228296\n",
       "40135         easiest     2.201362\n",
       "94667       skeptical     2.152273\n",
       "108387     unwrapping     2.098336\n",
       "113138        worries     2.077665\n",
       "20924         biscoff     2.064242\n",
       "35646   deliciousness     2.039803\n",
       "97889         stacked     2.014374\n",
       "43212       excellant     2.012349\n",
       "63800       lifesaver     1.934945\n",
       "87233        relieved     1.930271\n",
       "53610        heartier     1.926542"
      ]
     },
     "execution_count": 29,
     "metadata": {},
     "output_type": "execute_result"
    }
   ],
   "source": [
    "coef_df.head(20)"
   ]
  },
  {
   "cell_type": "code",
   "execution_count": 30,
   "metadata": {
    "execution": {
     "iopub.execute_input": "2021-08-20T13:06:13.156953Z",
     "iopub.status.busy": "2021-08-20T13:06:13.156655Z",
     "iopub.status.idle": "2021-08-20T13:06:13.175396Z",
     "shell.execute_reply": "2021-08-20T13:06:13.174208Z",
     "shell.execute_reply.started": "2021-08-20T13:06:13.156925Z"
    }
   },
   "outputs": [
    {
     "data": {
      "text/html": [
       "<div>\n",
       "<style scoped>\n",
       "    .dataframe tbody tr th:only-of-type {\n",
       "        vertical-align: middle;\n",
       "    }\n",
       "\n",
       "    .dataframe tbody tr th {\n",
       "        vertical-align: top;\n",
       "    }\n",
       "\n",
       "    .dataframe thead th {\n",
       "        text-align: right;\n",
       "    }\n",
       "</style>\n",
       "<table border=\"1\" class=\"dataframe\">\n",
       "  <thead>\n",
       "    <tr style=\"text-align: right;\">\n",
       "      <th></th>\n",
       "      <th>Word</th>\n",
       "      <th>Coefficient</th>\n",
       "    </tr>\n",
       "  </thead>\n",
       "  <tbody>\n",
       "    <tr>\n",
       "      <th>102845</th>\n",
       "      <td>terrible</td>\n",
       "      <td>-2.373911</td>\n",
       "    </tr>\n",
       "    <tr>\n",
       "      <th>56229</th>\n",
       "      <td>ick</td>\n",
       "      <td>-2.396970</td>\n",
       "    </tr>\n",
       "    <tr>\n",
       "      <th>38320</th>\n",
       "      <td>disturbed</td>\n",
       "      <td>-2.456680</td>\n",
       "    </tr>\n",
       "    <tr>\n",
       "      <th>23580</th>\n",
       "      <td>budda</td>\n",
       "      <td>-2.461826</td>\n",
       "    </tr>\n",
       "    <tr>\n",
       "      <th>2318</th>\n",
       "      <td>280mg</td>\n",
       "      <td>-2.478754</td>\n",
       "    </tr>\n",
       "    <tr>\n",
       "      <th>86421</th>\n",
       "      <td>redeeming</td>\n",
       "      <td>-2.491046</td>\n",
       "    </tr>\n",
       "    <tr>\n",
       "      <th>37563</th>\n",
       "      <td>disappointment</td>\n",
       "      <td>-2.540061</td>\n",
       "    </tr>\n",
       "    <tr>\n",
       "      <th>88351</th>\n",
       "      <td>returnable</td>\n",
       "      <td>-2.552161</td>\n",
       "    </tr>\n",
       "    <tr>\n",
       "      <th>38117</th>\n",
       "      <td>dissapointing</td>\n",
       "      <td>-2.556631</td>\n",
       "    </tr>\n",
       "    <tr>\n",
       "      <th>106894</th>\n",
       "      <td>unappealing</td>\n",
       "      <td>-2.583866</td>\n",
       "    </tr>\n",
       "    <tr>\n",
       "      <th>24949</th>\n",
       "      <td>cancelled</td>\n",
       "      <td>-2.588159</td>\n",
       "    </tr>\n",
       "    <tr>\n",
       "      <th>88945</th>\n",
       "      <td>ripoff</td>\n",
       "      <td>-2.594490</td>\n",
       "    </tr>\n",
       "    <tr>\n",
       "      <th>41118</th>\n",
       "      <td>embarrassed</td>\n",
       "      <td>-2.647751</td>\n",
       "    </tr>\n",
       "    <tr>\n",
       "      <th>2570</th>\n",
       "      <td>3095826</td>\n",
       "      <td>-2.701466</td>\n",
       "    </tr>\n",
       "    <tr>\n",
       "      <th>106852</th>\n",
       "      <td>unacceptable</td>\n",
       "      <td>-2.748840</td>\n",
       "    </tr>\n",
       "    <tr>\n",
       "      <th>107383</th>\n",
       "      <td>undrinkable</td>\n",
       "      <td>-2.757560</td>\n",
       "    </tr>\n",
       "    <tr>\n",
       "      <th>113164</th>\n",
       "      <td>worst</td>\n",
       "      <td>-2.868601</td>\n",
       "    </tr>\n",
       "    <tr>\n",
       "      <th>37560</th>\n",
       "      <td>disappointing</td>\n",
       "      <td>-2.901671</td>\n",
       "    </tr>\n",
       "    <tr>\n",
       "      <th>76621</th>\n",
       "      <td>oversalted</td>\n",
       "      <td>-3.131568</td>\n",
       "    </tr>\n",
       "    <tr>\n",
       "      <th>34989</th>\n",
       "      <td>deceptive</td>\n",
       "      <td>-3.347432</td>\n",
       "    </tr>\n",
       "  </tbody>\n",
       "</table>\n",
       "</div>"
      ],
      "text/plain": [
       "                  Word  Coefficient\n",
       "102845        terrible    -2.373911\n",
       "56229              ick    -2.396970\n",
       "38320        disturbed    -2.456680\n",
       "23580            budda    -2.461826\n",
       "2318             280mg    -2.478754\n",
       "86421        redeeming    -2.491046\n",
       "37563   disappointment    -2.540061\n",
       "88351       returnable    -2.552161\n",
       "38117    dissapointing    -2.556631\n",
       "106894     unappealing    -2.583866\n",
       "24949        cancelled    -2.588159\n",
       "88945           ripoff    -2.594490\n",
       "41118      embarrassed    -2.647751\n",
       "2570           3095826    -2.701466\n",
       "106852    unacceptable    -2.748840\n",
       "107383     undrinkable    -2.757560\n",
       "113164           worst    -2.868601\n",
       "37560    disappointing    -2.901671\n",
       "76621       oversalted    -3.131568\n",
       "34989        deceptive    -3.347432"
      ]
     },
     "execution_count": 30,
     "metadata": {},
     "output_type": "execute_result"
    }
   ],
   "source": [
    "coef_df.tail(20)"
   ]
  },
  {
   "cell_type": "markdown",
   "metadata": {},
   "source": [
    "## Automating NLP model and ML model"
   ]
  },
  {
   "cell_type": "code",
   "execution_count": 31,
   "metadata": {
    "execution": {
     "iopub.execute_input": "2021-08-20T13:06:13.176960Z",
     "iopub.status.busy": "2021-08-20T13:06:13.176685Z",
     "iopub.status.idle": "2021-08-20T13:06:13.192181Z",
     "shell.execute_reply": "2021-08-20T13:06:13.191115Z",
     "shell.execute_reply.started": "2021-08-20T13:06:13.176932Z"
    }
   },
   "outputs": [],
   "source": [
    "def text_fit(x,y,nlp_model,ml_model,coef_show=1):\n",
    "    x_c = nlp_model.fit_transform(x)\n",
    "    print('No. of features:{}'.format(x_c.shape[1]))\n",
    "    x_train,x_test,y_train,y_test = train_test_split(x_c,y)\n",
    "    \n",
    "    ml = ml_model.fit(x_train, y_train)\n",
    "    acc = ml.score(x_test,y_test)\n",
    "    print('Accuracy:{}'.format(acc))\n",
    "    \n",
    "    if coef_show==1:\n",
    "        w = nlp_model.get_feature_names()\n",
    "        coef = ml.coef_.tolist()[0]\n",
    "        coef_df = pd.DataFrame({'Word':w, 'Coefficient':coef})\n",
    "        coef_df=coef_df.sort_values(['Coefficient','Word'],ascending=False)\n",
    "        print('\\n')\n",
    "        print('Top 20 Positive words:')\n",
    "        print(coef_df.head(20))\n",
    "        print('\\n')\n",
    "        print('Top 20 Negative words:')\n",
    "        print(coef_df.tail(20))"
   ]
  },
  {
   "cell_type": "code",
   "execution_count": 32,
   "metadata": {
    "execution": {
     "iopub.execute_input": "2021-08-20T13:06:13.195701Z",
     "iopub.status.busy": "2021-08-20T13:06:13.195128Z",
     "iopub.status.idle": "2021-08-20T13:06:13.205804Z",
     "shell.execute_reply": "2021-08-20T13:06:13.204573Z",
     "shell.execute_reply.started": "2021-08-20T13:06:13.195654Z"
    }
   },
   "outputs": [],
   "source": [
    "from sklearn.feature_extraction.text import CountVectorizer"
   ]
  },
  {
   "cell_type": "code",
   "execution_count": 33,
   "metadata": {
    "execution": {
     "iopub.execute_input": "2021-08-20T13:06:13.207910Z",
     "iopub.status.busy": "2021-08-20T13:06:13.207333Z",
     "iopub.status.idle": "2021-08-20T13:06:13.222646Z",
     "shell.execute_reply": "2021-08-20T13:06:13.221398Z",
     "shell.execute_reply.started": "2021-08-20T13:06:13.207865Z"
    }
   },
   "outputs": [],
   "source": [
    "c = CountVectorizer(stop_words='english') "
   ]
  },
  {
   "cell_type": "code",
   "execution_count": 34,
   "metadata": {
    "execution": {
     "iopub.execute_input": "2021-08-20T13:06:13.224993Z",
     "iopub.status.busy": "2021-08-20T13:06:13.224426Z",
     "iopub.status.idle": "2021-08-20T13:06:13.234934Z",
     "shell.execute_reply": "2021-08-20T13:06:13.233916Z",
     "shell.execute_reply.started": "2021-08-20T13:06:13.224945Z"
    }
   },
   "outputs": [],
   "source": [
    "from sklearn.linear_model import LogisticRegression"
   ]
  },
  {
   "cell_type": "code",
   "execution_count": 35,
   "metadata": {
    "execution": {
     "iopub.execute_input": "2021-08-20T13:06:13.236511Z",
     "iopub.status.busy": "2021-08-20T13:06:13.236211Z",
     "iopub.status.idle": "2021-08-20T13:06:13.248642Z",
     "shell.execute_reply": "2021-08-20T13:06:13.247766Z",
     "shell.execute_reply.started": "2021-08-20T13:06:13.236483Z"
    }
   },
   "outputs": [],
   "source": [
    "log = LogisticRegression(solver='liblinear')"
   ]
  },
  {
   "cell_type": "code",
   "execution_count": 36,
   "metadata": {
    "execution": {
     "iopub.execute_input": "2021-08-20T13:06:13.250169Z",
     "iopub.status.busy": "2021-08-20T13:06:13.249692Z",
     "iopub.status.idle": "2021-08-20T13:08:45.050801Z",
     "shell.execute_reply": "2021-08-20T13:08:45.049521Z",
     "shell.execute_reply.started": "2021-08-20T13:06:13.250137Z"
    }
   },
   "outputs": [
    {
     "name": "stdout",
     "output_type": "stream",
     "text": [
      "No. of features:114969\n",
      "Accuracy:0.9392487105755626\n",
      "\n",
      "\n",
      "Top 20 Positive words:\n",
      "              Word  Coefficient\n",
      "80600   pleasantly     2.901190\n",
      "39072     downside     2.523910\n",
      "96145      solving     2.347325\n",
      "53610     heartier     2.345079\n",
      "55029       hooked     2.341608\n",
      "94667    skeptical     2.277735\n",
      "5865     addicting     2.261751\n",
      "113138     worries     2.229099\n",
      "103903      tigers     2.183764\n",
      "110445       vouch     2.150815\n",
      "20268       bertie     2.130315\n",
      "114023     yielded     2.119226\n",
      "52502       hahaha     2.053020\n",
      "106942  unbeatable     2.037085\n",
      "53585        hears     2.019810\n",
      "105162     trainer     2.019569\n",
      "87967       resist     2.007739\n",
      "78033      patient     2.000215\n",
      "63800    lifesaver     1.998136\n",
      "40135      easiest     1.986304\n",
      "\n",
      "\n",
      "Top 20 Negative words:\n",
      "                  Word  Coefficient\n",
      "67898         mediocre    -2.298183\n",
      "47507           freind    -2.333049\n",
      "24949        cancelled    -2.419932\n",
      "88351       returnable    -2.444083\n",
      "35220          defeats    -2.462557\n",
      "37563   disappointment    -2.491290\n",
      "2570           3095826    -2.540437\n",
      "38117    dissapointing    -2.544420\n",
      "34989        deceptive    -2.574895\n",
      "107383     undrinkable    -2.584376\n",
      "106852    unacceptable    -2.604194\n",
      "56229              ick    -2.630110\n",
      "76621       oversalted    -2.682173\n",
      "23580            budda    -2.692768\n",
      "86421        redeeming    -2.695061\n",
      "37560    disappointing    -2.747146\n",
      "41118      embarrassed    -2.804388\n",
      "111257         weakest    -2.894072\n",
      "2318             280mg    -2.929579\n",
      "113164           worst    -2.936481\n"
     ]
    }
   ],
   "source": [
    "text_fit(x,y,c,log)"
   ]
  },
  {
   "cell_type": "markdown",
   "metadata": {},
   "source": [
    "### Automate predictions"
   ]
  },
  {
   "cell_type": "code",
   "execution_count": 37,
   "metadata": {
    "execution": {
     "iopub.execute_input": "2021-08-20T13:08:45.052247Z",
     "iopub.status.busy": "2021-08-20T13:08:45.051988Z",
     "iopub.status.idle": "2021-08-20T13:08:45.056875Z",
     "shell.execute_reply": "2021-08-20T13:08:45.055842Z",
     "shell.execute_reply.started": "2021-08-20T13:08:45.052220Z"
    }
   },
   "outputs": [],
   "source": [
    "from sklearn.metrics import confusion_matrix, accuracy_score"
   ]
  },
  {
   "cell_type": "code",
   "execution_count": 38,
   "metadata": {
    "execution": {
     "iopub.execute_input": "2021-08-20T13:08:45.058315Z",
     "iopub.status.busy": "2021-08-20T13:08:45.058048Z",
     "iopub.status.idle": "2021-08-20T13:08:45.069880Z",
     "shell.execute_reply": "2021-08-20T13:08:45.068717Z",
     "shell.execute_reply.started": "2021-08-20T13:08:45.058289Z"
    }
   },
   "outputs": [],
   "source": [
    "def predict(x,y,nlp_model,ml_model):\n",
    "    x_c = nlp_model.fit_transform(x)\n",
    "    x_train,x_test,y_train,y_test = train_test_split(x_c,y)\n",
    "    \n",
    "    ml = ml_model.fit(x_train, y_train)\n",
    "    predictions = ml.predict(x_test)\n",
    "    cm = confusion_matrix(predictions, y_test)\n",
    "    print('Confusion Matrix: \\n{}'.format(cm))\n",
    "    acc = accuracy_score(predictions,y_test)\n",
    "    print('Accuracy:{}'.format(acc))"
   ]
  },
  {
   "cell_type": "code",
   "execution_count": 39,
   "metadata": {
    "execution": {
     "iopub.execute_input": "2021-08-20T13:08:45.071927Z",
     "iopub.status.busy": "2021-08-20T13:08:45.071499Z",
     "iopub.status.idle": "2021-08-20T13:08:45.099816Z",
     "shell.execute_reply": "2021-08-20T13:08:45.098961Z",
     "shell.execute_reply.started": "2021-08-20T13:08:45.071883Z"
    }
   },
   "outputs": [],
   "source": [
    "c= CountVectorizer()\n",
    "lr = LogisticRegression(solver='liblinear')"
   ]
  },
  {
   "cell_type": "code",
   "execution_count": 40,
   "metadata": {
    "execution": {
     "iopub.execute_input": "2021-08-20T13:08:45.101490Z",
     "iopub.status.busy": "2021-08-20T13:08:45.101157Z",
     "iopub.status.idle": "2021-08-20T13:12:38.351124Z",
     "shell.execute_reply": "2021-08-20T13:12:38.349903Z",
     "shell.execute_reply.started": "2021-08-20T13:08:45.101460Z"
    }
   },
   "outputs": [
    {
     "name": "stdout",
     "output_type": "stream",
     "text": [
      "Confusion Matrix: \n",
      "[[ 15749   2576]\n",
      " [  4806 108323]]\n",
      "Accuracy:0.9438434737626851\n"
     ]
    }
   ],
   "source": [
    "predict(x,y,c,lr)"
   ]
  },
  {
   "cell_type": "markdown",
   "metadata": {},
   "source": [
    "## TF-IDF "
   ]
  },
  {
   "cell_type": "code",
   "execution_count": 42,
   "metadata": {
    "execution": {
     "iopub.execute_input": "2021-08-20T13:15:32.581383Z",
     "iopub.status.busy": "2021-08-20T13:15:32.581017Z",
     "iopub.status.idle": "2021-08-20T13:15:32.588879Z",
     "shell.execute_reply": "2021-08-20T13:15:32.587974Z",
     "shell.execute_reply.started": "2021-08-20T13:15:32.581353Z"
    }
   },
   "outputs": [],
   "source": [
    "from sklearn.dummy import DummyClassifier"
   ]
  },
  {
   "cell_type": "code",
   "execution_count": 43,
   "metadata": {
    "execution": {
     "iopub.execute_input": "2021-08-20T13:16:27.674329Z",
     "iopub.status.busy": "2021-08-20T13:16:27.673977Z",
     "iopub.status.idle": "2021-08-20T13:16:27.678539Z",
     "shell.execute_reply": "2021-08-20T13:16:27.677547Z",
     "shell.execute_reply.started": "2021-08-20T13:16:27.674299Z"
    }
   },
   "outputs": [],
   "source": [
    "c= CountVectorizer()\n",
    "lr = LogisticRegression(solver='liblinear')"
   ]
  },
  {
   "cell_type": "markdown",
   "metadata": {},
   "source": [
    "### Bag of Words and Dummy classifier"
   ]
  },
  {
   "cell_type": "code",
   "execution_count": 47,
   "metadata": {
    "execution": {
     "iopub.execute_input": "2021-08-20T13:17:56.315099Z",
     "iopub.status.busy": "2021-08-20T13:17:56.314522Z",
     "iopub.status.idle": "2021-08-20T13:18:44.693660Z",
     "shell.execute_reply": "2021-08-20T13:18:44.692604Z",
     "shell.execute_reply.started": "2021-08-20T13:17:56.315065Z"
    }
   },
   "outputs": [
    {
     "name": "stdout",
     "output_type": "stream",
     "text": [
      "No. of features:115282\n",
      "Accuracy:0.7339525613522601\n"
     ]
    }
   ],
   "source": [
    "text_fit(x,y,c, DummyClassifier(),0)"
   ]
  },
  {
   "cell_type": "code",
   "execution_count": 45,
   "metadata": {
    "execution": {
     "iopub.execute_input": "2021-08-20T13:17:16.251738Z",
     "iopub.status.busy": "2021-08-20T13:17:16.251297Z",
     "iopub.status.idle": "2021-08-20T13:17:16.256435Z",
     "shell.execute_reply": "2021-08-20T13:17:16.255414Z",
     "shell.execute_reply.started": "2021-08-20T13:17:16.251681Z"
    }
   },
   "outputs": [],
   "source": [
    "from sklearn.feature_extraction.text import TfidfVectorizer"
   ]
  },
  {
   "cell_type": "code",
   "execution_count": 46,
   "metadata": {
    "execution": {
     "iopub.execute_input": "2021-08-20T13:17:16.258992Z",
     "iopub.status.busy": "2021-08-20T13:17:16.258559Z",
     "iopub.status.idle": "2021-08-20T13:17:16.272532Z",
     "shell.execute_reply": "2021-08-20T13:17:16.271504Z",
     "shell.execute_reply.started": "2021-08-20T13:17:16.258951Z"
    }
   },
   "outputs": [],
   "source": [
    "tfidf = TfidfVectorizer(stop_words='english')"
   ]
  },
  {
   "cell_type": "markdown",
   "metadata": {},
   "source": [
    "### TF-IDF and Logistic Regression"
   ]
  },
  {
   "cell_type": "code",
   "execution_count": 48,
   "metadata": {
    "execution": {
     "iopub.execute_input": "2021-08-20T13:18:49.845978Z",
     "iopub.status.busy": "2021-08-20T13:18:49.845557Z",
     "iopub.status.idle": "2021-08-20T13:19:42.376136Z",
     "shell.execute_reply": "2021-08-20T13:19:42.373063Z",
     "shell.execute_reply.started": "2021-08-20T13:18:49.845945Z"
    }
   },
   "outputs": [
    {
     "name": "stdout",
     "output_type": "stream",
     "text": [
      "No. of features:114969\n",
      "Accuracy:0.935414669770414\n"
     ]
    }
   ],
   "source": [
    "text_fit(x,y,tfidf,lr,0)"
   ]
  },
  {
   "cell_type": "code",
   "execution_count": 51,
   "metadata": {
    "execution": {
     "iopub.execute_input": "2021-08-20T13:33:09.171725Z",
     "iopub.status.busy": "2021-08-20T13:33:09.171321Z",
     "iopub.status.idle": "2021-08-20T13:34:02.448081Z",
     "shell.execute_reply": "2021-08-20T13:34:02.447218Z",
     "shell.execute_reply.started": "2021-08-20T13:33:09.171692Z"
    }
   },
   "outputs": [
    {
     "name": "stdout",
     "output_type": "stream",
     "text": [
      "Confusion Matrix: \n",
      "[[ 14215   2304]\n",
      " [  6324 108611]]\n",
      "Accuracy:0.93436487288329\n"
     ]
    }
   ],
   "source": [
    "predict(x,y,tfidf,lr)"
   ]
  },
  {
   "cell_type": "markdown",
   "metadata": {},
   "source": [
    "*Use other ML models like KNN, random forest, Naive Bayes etc.*"
   ]
  },
  {
   "cell_type": "markdown",
   "metadata": {},
   "source": [
    "## Data preparation for modelling purpose"
   ]
  },
  {
   "cell_type": "code",
   "execution_count": 53,
   "metadata": {
    "execution": {
     "iopub.execute_input": "2021-08-20T13:40:33.622707Z",
     "iopub.status.busy": "2021-08-20T13:40:33.622301Z",
     "iopub.status.idle": "2021-08-20T13:40:33.709269Z",
     "shell.execute_reply": "2021-08-20T13:40:33.708285Z",
     "shell.execute_reply.started": "2021-08-20T13:40:33.622672Z"
    }
   },
   "outputs": [
    {
     "data": {
      "text/html": [
       "<div>\n",
       "<style scoped>\n",
       "    .dataframe tbody tr th:only-of-type {\n",
       "        vertical-align: middle;\n",
       "    }\n",
       "\n",
       "    .dataframe tbody tr th {\n",
       "        vertical-align: top;\n",
       "    }\n",
       "\n",
       "    .dataframe thead th {\n",
       "        text-align: right;\n",
       "    }\n",
       "</style>\n",
       "<table border=\"1\" class=\"dataframe\">\n",
       "  <thead>\n",
       "    <tr style=\"text-align: right;\">\n",
       "      <th></th>\n",
       "      <th>Id</th>\n",
       "      <th>ProductId</th>\n",
       "      <th>UserId</th>\n",
       "      <th>ProfileName</th>\n",
       "      <th>HelpfulnessNumerator</th>\n",
       "      <th>HelpfulnessDenominator</th>\n",
       "      <th>Score</th>\n",
       "      <th>Time</th>\n",
       "      <th>Summary</th>\n",
       "      <th>Text</th>\n",
       "      <th>Helpful%</th>\n",
       "      <th>upvote%</th>\n",
       "    </tr>\n",
       "  </thead>\n",
       "  <tbody>\n",
       "    <tr>\n",
       "      <th>0</th>\n",
       "      <td>1</td>\n",
       "      <td>B001E4KFG0</td>\n",
       "      <td>A3SGXH7AUHU8GW</td>\n",
       "      <td>delmartian</td>\n",
       "      <td>1</td>\n",
       "      <td>1</td>\n",
       "      <td>5</td>\n",
       "      <td>1303862400</td>\n",
       "      <td>Good Quality Dog Food</td>\n",
       "      <td>I have bought several of the Vitality canned d...</td>\n",
       "      <td>1.0</td>\n",
       "      <td>80-100%</td>\n",
       "    </tr>\n",
       "    <tr>\n",
       "      <th>4</th>\n",
       "      <td>5</td>\n",
       "      <td>B006K2ZZ7K</td>\n",
       "      <td>A1UQRSCLF8GW1T</td>\n",
       "      <td>Michael D. Bigham \"M. Wassir\"</td>\n",
       "      <td>0</td>\n",
       "      <td>0</td>\n",
       "      <td>5</td>\n",
       "      <td>1350777600</td>\n",
       "      <td>Great taffy</td>\n",
       "      <td>Great taffy at a great price.  There was a wid...</td>\n",
       "      <td>-1.0</td>\n",
       "      <td>NaN</td>\n",
       "    </tr>\n",
       "    <tr>\n",
       "      <th>6</th>\n",
       "      <td>7</td>\n",
       "      <td>B006K2ZZ7K</td>\n",
       "      <td>A1SP2KVKFXXRU1</td>\n",
       "      <td>David C. Sullivan</td>\n",
       "      <td>0</td>\n",
       "      <td>0</td>\n",
       "      <td>5</td>\n",
       "      <td>1340150400</td>\n",
       "      <td>Great!  Just as good as the expensive brands!</td>\n",
       "      <td>This saltwater taffy had great flavors and was...</td>\n",
       "      <td>-1.0</td>\n",
       "      <td>NaN</td>\n",
       "    </tr>\n",
       "    <tr>\n",
       "      <th>7</th>\n",
       "      <td>8</td>\n",
       "      <td>B006K2ZZ7K</td>\n",
       "      <td>A3JRGQVEQN31IQ</td>\n",
       "      <td>Pamela G. Williams</td>\n",
       "      <td>0</td>\n",
       "      <td>0</td>\n",
       "      <td>5</td>\n",
       "      <td>1336003200</td>\n",
       "      <td>Wonderful, tasty taffy</td>\n",
       "      <td>This taffy is so good.  It is very soft and ch...</td>\n",
       "      <td>-1.0</td>\n",
       "      <td>NaN</td>\n",
       "    </tr>\n",
       "    <tr>\n",
       "      <th>8</th>\n",
       "      <td>9</td>\n",
       "      <td>B000E7L2R4</td>\n",
       "      <td>A1MZYO9TZK0BBI</td>\n",
       "      <td>R. James</td>\n",
       "      <td>1</td>\n",
       "      <td>1</td>\n",
       "      <td>5</td>\n",
       "      <td>1322006400</td>\n",
       "      <td>Yay Barley</td>\n",
       "      <td>Right now I'm mostly just sprouting this so my...</td>\n",
       "      <td>1.0</td>\n",
       "      <td>80-100%</td>\n",
       "    </tr>\n",
       "  </tbody>\n",
       "</table>\n",
       "</div>"
      ],
      "text/plain": [
       "   Id   ProductId          UserId                    ProfileName  \\\n",
       "0   1  B001E4KFG0  A3SGXH7AUHU8GW                     delmartian   \n",
       "4   5  B006K2ZZ7K  A1UQRSCLF8GW1T  Michael D. Bigham \"M. Wassir\"   \n",
       "6   7  B006K2ZZ7K  A1SP2KVKFXXRU1              David C. Sullivan   \n",
       "7   8  B006K2ZZ7K  A3JRGQVEQN31IQ             Pamela G. Williams   \n",
       "8   9  B000E7L2R4  A1MZYO9TZK0BBI                       R. James   \n",
       "\n",
       "   HelpfulnessNumerator  HelpfulnessDenominator  Score        Time  \\\n",
       "0                     1                       1      5  1303862400   \n",
       "4                     0                       0      5  1350777600   \n",
       "6                     0                       0      5  1340150400   \n",
       "7                     0                       0      5  1336003200   \n",
       "8                     1                       1      5  1322006400   \n",
       "\n",
       "                                         Summary  \\\n",
       "0                          Good Quality Dog Food   \n",
       "4                                    Great taffy   \n",
       "6  Great!  Just as good as the expensive brands!   \n",
       "7                         Wonderful, tasty taffy   \n",
       "8                                     Yay Barley   \n",
       "\n",
       "                                                Text  Helpful%  upvote%  \n",
       "0  I have bought several of the Vitality canned d...       1.0  80-100%  \n",
       "4  Great taffy at a great price.  There was a wid...      -1.0      NaN  \n",
       "6  This saltwater taffy had great flavors and was...      -1.0      NaN  \n",
       "7  This taffy is so good.  It is very soft and ch...      -1.0      NaN  \n",
       "8  Right now I'm mostly just sprouting this so my...       1.0  80-100%  "
      ]
     },
     "execution_count": 53,
     "metadata": {},
     "output_type": "execute_result"
    }
   ],
   "source": [
    "data = df[df['Score']==5]\n",
    "data.head()"
   ]
  },
  {
   "cell_type": "code",
   "execution_count": 55,
   "metadata": {
    "execution": {
     "iopub.execute_input": "2021-08-20T13:41:21.373268Z",
     "iopub.status.busy": "2021-08-20T13:41:21.372913Z",
     "iopub.status.idle": "2021-08-20T13:41:21.384274Z",
     "shell.execute_reply": "2021-08-20T13:41:21.383249Z",
     "shell.execute_reply.started": "2021-08-20T13:41:21.373237Z"
    }
   },
   "outputs": [
    {
     "data": {
      "text/plain": [
       "['80-100%', NaN, '60-80%', 'Empty', '40-60%', '20-40%', '0-20%']\n",
       "Categories (6, object): ['Empty' < '0-20%' < '20-40%' < '40-60%' < '60-80%' < '80-100%']"
      ]
     },
     "execution_count": 55,
     "metadata": {},
     "output_type": "execute_result"
    }
   ],
   "source": [
    "data['upvote%'].unique()"
   ]
  },
  {
   "cell_type": "code",
   "execution_count": 60,
   "metadata": {
    "execution": {
     "iopub.execute_input": "2021-08-20T13:49:15.546416Z",
     "iopub.status.busy": "2021-08-20T13:49:15.546056Z",
     "iopub.status.idle": "2021-08-20T13:49:15.637960Z",
     "shell.execute_reply": "2021-08-20T13:49:15.636903Z",
     "shell.execute_reply.started": "2021-08-20T13:49:15.546386Z"
    }
   },
   "outputs": [
    {
     "data": {
      "text/html": [
       "<div>\n",
       "<style scoped>\n",
       "    .dataframe tbody tr th:only-of-type {\n",
       "        vertical-align: middle;\n",
       "    }\n",
       "\n",
       "    .dataframe tbody tr th {\n",
       "        vertical-align: top;\n",
       "    }\n",
       "\n",
       "    .dataframe thead th {\n",
       "        text-align: right;\n",
       "    }\n",
       "</style>\n",
       "<table border=\"1\" class=\"dataframe\">\n",
       "  <thead>\n",
       "    <tr style=\"text-align: right;\">\n",
       "      <th></th>\n",
       "      <th>Id</th>\n",
       "      <th>ProductId</th>\n",
       "      <th>UserId</th>\n",
       "      <th>ProfileName</th>\n",
       "      <th>HelpfulnessNumerator</th>\n",
       "      <th>HelpfulnessDenominator</th>\n",
       "      <th>Score</th>\n",
       "      <th>Time</th>\n",
       "      <th>Summary</th>\n",
       "      <th>Text</th>\n",
       "      <th>Helpful%</th>\n",
       "      <th>upvote%</th>\n",
       "    </tr>\n",
       "  </thead>\n",
       "  <tbody>\n",
       "    <tr>\n",
       "      <th>0</th>\n",
       "      <td>1</td>\n",
       "      <td>B001E4KFG0</td>\n",
       "      <td>A3SGXH7AUHU8GW</td>\n",
       "      <td>delmartian</td>\n",
       "      <td>1</td>\n",
       "      <td>1</td>\n",
       "      <td>5</td>\n",
       "      <td>1303862400</td>\n",
       "      <td>Good Quality Dog Food</td>\n",
       "      <td>I have bought several of the Vitality canned d...</td>\n",
       "      <td>1.0</td>\n",
       "      <td>80-100%</td>\n",
       "    </tr>\n",
       "    <tr>\n",
       "      <th>8</th>\n",
       "      <td>9</td>\n",
       "      <td>B000E7L2R4</td>\n",
       "      <td>A1MZYO9TZK0BBI</td>\n",
       "      <td>R. James</td>\n",
       "      <td>1</td>\n",
       "      <td>1</td>\n",
       "      <td>5</td>\n",
       "      <td>1322006400</td>\n",
       "      <td>Yay Barley</td>\n",
       "      <td>Right now I'm mostly just sprouting this so my...</td>\n",
       "      <td>1.0</td>\n",
       "      <td>80-100%</td>\n",
       "    </tr>\n",
       "    <tr>\n",
       "      <th>10</th>\n",
       "      <td>11</td>\n",
       "      <td>B0001PB9FE</td>\n",
       "      <td>A3HDKO7OW0QNK4</td>\n",
       "      <td>Canadian Fan</td>\n",
       "      <td>1</td>\n",
       "      <td>1</td>\n",
       "      <td>5</td>\n",
       "      <td>1107820800</td>\n",
       "      <td>The Best Hot Sauce in the World</td>\n",
       "      <td>I don't know if it's the cactus or the tequila...</td>\n",
       "      <td>1.0</td>\n",
       "      <td>80-100%</td>\n",
       "    </tr>\n",
       "    <tr>\n",
       "      <th>11</th>\n",
       "      <td>12</td>\n",
       "      <td>B0009XLVG0</td>\n",
       "      <td>A2725IB4YY9JEB</td>\n",
       "      <td>A Poeng \"SparkyGoHome\"</td>\n",
       "      <td>4</td>\n",
       "      <td>4</td>\n",
       "      <td>5</td>\n",
       "      <td>1282867200</td>\n",
       "      <td>My cats LOVE this \"diet\" food better than thei...</td>\n",
       "      <td>One of my boys needed to lose some weight and ...</td>\n",
       "      <td>1.0</td>\n",
       "      <td>80-100%</td>\n",
       "    </tr>\n",
       "    <tr>\n",
       "      <th>14</th>\n",
       "      <td>15</td>\n",
       "      <td>B001GVISJM</td>\n",
       "      <td>A2MUGFV2TDQ47K</td>\n",
       "      <td>Lynrie \"Oh HELL no\"</td>\n",
       "      <td>4</td>\n",
       "      <td>5</td>\n",
       "      <td>5</td>\n",
       "      <td>1268352000</td>\n",
       "      <td>Strawberry Twizzlers - Yummy</td>\n",
       "      <td>The Strawberry Twizzlers are my guilty pleasur...</td>\n",
       "      <td>0.8</td>\n",
       "      <td>60-80%</td>\n",
       "    </tr>\n",
       "  </tbody>\n",
       "</table>\n",
       "</div>"
      ],
      "text/plain": [
       "    Id   ProductId          UserId             ProfileName  \\\n",
       "0    1  B001E4KFG0  A3SGXH7AUHU8GW              delmartian   \n",
       "8    9  B000E7L2R4  A1MZYO9TZK0BBI                R. James   \n",
       "10  11  B0001PB9FE  A3HDKO7OW0QNK4            Canadian Fan   \n",
       "11  12  B0009XLVG0  A2725IB4YY9JEB  A Poeng \"SparkyGoHome\"   \n",
       "14  15  B001GVISJM  A2MUGFV2TDQ47K     Lynrie \"Oh HELL no\"   \n",
       "\n",
       "    HelpfulnessNumerator  HelpfulnessDenominator  Score        Time  \\\n",
       "0                      1                       1      5  1303862400   \n",
       "8                      1                       1      5  1322006400   \n",
       "10                     1                       1      5  1107820800   \n",
       "11                     4                       4      5  1282867200   \n",
       "14                     4                       5      5  1268352000   \n",
       "\n",
       "                                              Summary  \\\n",
       "0                               Good Quality Dog Food   \n",
       "8                                          Yay Barley   \n",
       "10                    The Best Hot Sauce in the World   \n",
       "11  My cats LOVE this \"diet\" food better than thei...   \n",
       "14                       Strawberry Twizzlers - Yummy   \n",
       "\n",
       "                                                 Text  Helpful%  upvote%  \n",
       "0   I have bought several of the Vitality canned d...       1.0  80-100%  \n",
       "8   Right now I'm mostly just sprouting this so my...       1.0  80-100%  \n",
       "10  I don't know if it's the cactus or the tequila...       1.0  80-100%  \n",
       "11  One of my boys needed to lose some weight and ...       1.0  80-100%  \n",
       "14  The Strawberry Twizzlers are my guilty pleasur...       0.8   60-80%  "
      ]
     },
     "execution_count": 60,
     "metadata": {},
     "output_type": "execute_result"
    }
   ],
   "source": [
    "# removing neutral votes i.e. 40-60%\n",
    "data2 = data[data['upvote%'].isin(['80-100%', '60-80%', '20-40%', '0-20%'])]\n",
    "data2.head()"
   ]
  },
  {
   "cell_type": "markdown",
   "metadata": {},
   "source": [
    "**This is exactly the dataframe that we require for modelling purpose**"
   ]
  },
  {
   "cell_type": "code",
   "execution_count": 62,
   "metadata": {
    "execution": {
     "iopub.execute_input": "2021-08-20T14:06:17.180937Z",
     "iopub.status.busy": "2021-08-20T14:06:17.180360Z",
     "iopub.status.idle": "2021-08-20T14:06:17.185709Z",
     "shell.execute_reply": "2021-08-20T14:06:17.184796Z",
     "shell.execute_reply.started": "2021-08-20T14:06:17.180903Z"
    }
   },
   "outputs": [],
   "source": [
    "x = data2['Text']"
   ]
  },
  {
   "cell_type": "code",
   "execution_count": 63,
   "metadata": {
    "execution": {
     "iopub.execute_input": "2021-08-20T14:07:03.339780Z",
     "iopub.status.busy": "2021-08-20T14:07:03.339251Z",
     "iopub.status.idle": "2021-08-20T14:07:03.354937Z",
     "shell.execute_reply": "2021-08-20T14:07:03.354004Z",
     "shell.execute_reply.started": "2021-08-20T14:07:03.339747Z"
    }
   },
   "outputs": [
    {
     "data": {
      "text/plain": [
       "['80-100%', '60-80%', '20-40%', '0-20%']\n",
       "Categories (4, object): ['0-20%' < '20-40%' < '60-80%' < '80-100%']"
      ]
     },
     "execution_count": 63,
     "metadata": {},
     "output_type": "execute_result"
    }
   ],
   "source": [
    "data2['upvote%'].unique()"
   ]
  },
  {
   "cell_type": "code",
   "execution_count": 79,
   "metadata": {
    "execution": {
     "iopub.execute_input": "2021-08-20T14:34:48.979242Z",
     "iopub.status.busy": "2021-08-20T14:34:48.978834Z",
     "iopub.status.idle": "2021-08-20T14:34:48.994290Z",
     "shell.execute_reply": "2021-08-20T14:34:48.993149Z",
     "shell.execute_reply.started": "2021-08-20T14:34:48.979210Z"
    }
   },
   "outputs": [
    {
     "data": {
      "text/plain": [
       "1.0    151721\n",
       "0.0      2707\n",
       "Name: upvote%, dtype: int64"
      ]
     },
     "execution_count": 79,
     "metadata": {},
     "output_type": "execute_result"
    }
   ],
   "source": [
    "y_dict = {'80-100%':1, '60-80%':1, '20-40%':0, '0-20%':0}\n",
    "y = data2['upvote%'].map(y_dict)\n",
    "y.value_counts()"
   ]
  },
  {
   "cell_type": "markdown",
   "metadata": {},
   "source": [
    "*It is an imbalance data*"
   ]
  },
  {
   "cell_type": "code",
   "execution_count": 80,
   "metadata": {
    "execution": {
     "iopub.execute_input": "2021-08-20T14:34:49.566943Z",
     "iopub.status.busy": "2021-08-20T14:34:49.566574Z",
     "iopub.status.idle": "2021-08-20T14:34:49.571517Z",
     "shell.execute_reply": "2021-08-20T14:34:49.570527Z",
     "shell.execute_reply.started": "2021-08-20T14:34:49.566913Z"
    }
   },
   "outputs": [],
   "source": [
    "from sklearn.feature_extraction.text import TfidfVectorizer"
   ]
  },
  {
   "cell_type": "code",
   "execution_count": 81,
   "metadata": {
    "execution": {
     "iopub.execute_input": "2021-08-20T14:34:50.305598Z",
     "iopub.status.busy": "2021-08-20T14:34:50.305235Z",
     "iopub.status.idle": "2021-08-20T14:34:50.310111Z",
     "shell.execute_reply": "2021-08-20T14:34:50.309147Z",
     "shell.execute_reply.started": "2021-08-20T14:34:50.305563Z"
    }
   },
   "outputs": [],
   "source": [
    "tf = TfidfVectorizer()"
   ]
  },
  {
   "cell_type": "code",
   "execution_count": 82,
   "metadata": {
    "execution": {
     "iopub.execute_input": "2021-08-20T14:34:51.084251Z",
     "iopub.status.busy": "2021-08-20T14:34:51.083878Z",
     "iopub.status.idle": "2021-08-20T14:35:07.673655Z",
     "shell.execute_reply": "2021-08-20T14:35:07.672635Z",
     "shell.execute_reply.started": "2021-08-20T14:34:51.084222Z"
    }
   },
   "outputs": [],
   "source": [
    "x_c = tf.fit_transform(x)"
   ]
  },
  {
   "cell_type": "markdown",
   "metadata": {},
   "source": [
    "### Applying techniques to handle imbalance data"
   ]
  },
  {
   "cell_type": "markdown",
   "metadata": {},
   "source": [
    "#### Random Over Sample technique"
   ]
  },
  {
   "cell_type": "code",
   "execution_count": 83,
   "metadata": {
    "execution": {
     "iopub.execute_input": "2021-08-20T14:35:07.675359Z",
     "iopub.status.busy": "2021-08-20T14:35:07.675056Z",
     "iopub.status.idle": "2021-08-20T14:35:07.679542Z",
     "shell.execute_reply": "2021-08-20T14:35:07.678455Z",
     "shell.execute_reply.started": "2021-08-20T14:35:07.675326Z"
    }
   },
   "outputs": [],
   "source": [
    "#!pip install TensorFlow"
   ]
  },
  {
   "cell_type": "code",
   "execution_count": 84,
   "metadata": {
    "execution": {
     "iopub.execute_input": "2021-08-20T14:35:07.682761Z",
     "iopub.status.busy": "2021-08-20T14:35:07.682374Z",
     "iopub.status.idle": "2021-08-20T14:35:07.692569Z",
     "shell.execute_reply": "2021-08-20T14:35:07.691516Z",
     "shell.execute_reply.started": "2021-08-20T14:35:07.682703Z"
    }
   },
   "outputs": [],
   "source": [
    "from imblearn.over_sampling import RandomOverSampler     #it uses tensorflow in backend"
   ]
  },
  {
   "cell_type": "code",
   "execution_count": 85,
   "metadata": {
    "execution": {
     "iopub.execute_input": "2021-08-20T14:35:07.694166Z",
     "iopub.status.busy": "2021-08-20T14:35:07.693880Z",
     "iopub.status.idle": "2021-08-20T14:35:07.705015Z",
     "shell.execute_reply": "2021-08-20T14:35:07.703982Z",
     "shell.execute_reply.started": "2021-08-20T14:35:07.694129Z"
    }
   },
   "outputs": [],
   "source": [
    "os = RandomOverSampler()"
   ]
  },
  {
   "cell_type": "code",
   "execution_count": 86,
   "metadata": {
    "execution": {
     "iopub.execute_input": "2021-08-20T14:35:07.707046Z",
     "iopub.status.busy": "2021-08-20T14:35:07.706637Z",
     "iopub.status.idle": "2021-08-20T14:35:08.011468Z",
     "shell.execute_reply": "2021-08-20T14:35:08.010257Z",
     "shell.execute_reply.started": "2021-08-20T14:35:07.707004Z"
    }
   },
   "outputs": [],
   "source": [
    "x_train_res, y_train_res = os.fit_resample(x_c,y)"
   ]
  },
  {
   "cell_type": "code",
   "execution_count": 87,
   "metadata": {
    "execution": {
     "iopub.execute_input": "2021-08-20T14:38:15.107370Z",
     "iopub.status.busy": "2021-08-20T14:38:15.106957Z",
     "iopub.status.idle": "2021-08-20T14:38:15.113602Z",
     "shell.execute_reply": "2021-08-20T14:38:15.112613Z",
     "shell.execute_reply.started": "2021-08-20T14:38:15.107338Z"
    }
   },
   "outputs": [
    {
     "data": {
      "text/plain": [
       "(303442, 67507)"
      ]
     },
     "execution_count": 87,
     "metadata": {},
     "output_type": "execute_result"
    }
   ],
   "source": [
    "x_train_res.shape"
   ]
  },
  {
   "cell_type": "code",
   "execution_count": 88,
   "metadata": {
    "execution": {
     "iopub.execute_input": "2021-08-20T14:38:22.819438Z",
     "iopub.status.busy": "2021-08-20T14:38:22.819045Z",
     "iopub.status.idle": "2021-08-20T14:38:22.825662Z",
     "shell.execute_reply": "2021-08-20T14:38:22.824757Z",
     "shell.execute_reply.started": "2021-08-20T14:38:22.819407Z"
    }
   },
   "outputs": [
    {
     "data": {
      "text/plain": [
       "(303442,)"
      ]
     },
     "execution_count": 88,
     "metadata": {},
     "output_type": "execute_result"
    }
   ],
   "source": [
    "y_train_res.shape"
   ]
  },
  {
   "cell_type": "code",
   "execution_count": 92,
   "metadata": {
    "execution": {
     "iopub.execute_input": "2021-08-20T14:43:36.272944Z",
     "iopub.status.busy": "2021-08-20T14:43:36.272423Z",
     "iopub.status.idle": "2021-08-20T14:43:36.284633Z",
     "shell.execute_reply": "2021-08-20T14:43:36.283717Z",
     "shell.execute_reply.started": "2021-08-20T14:43:36.272914Z"
    }
   },
   "outputs": [
    {
     "data": {
      "text/plain": [
       "0.0    151721\n",
       "1.0    151721\n",
       "Name: upvote%, dtype: int64"
      ]
     },
     "execution_count": 92,
     "metadata": {},
     "output_type": "execute_result"
    }
   ],
   "source": [
    "y_train_res.value_counts()"
   ]
  },
  {
   "cell_type": "code",
   "execution_count": 90,
   "metadata": {
    "execution": {
     "iopub.execute_input": "2021-08-20T14:42:36.949543Z",
     "iopub.status.busy": "2021-08-20T14:42:36.949033Z",
     "iopub.status.idle": "2021-08-20T14:42:36.953099Z",
     "shell.execute_reply": "2021-08-20T14:42:36.952188Z",
     "shell.execute_reply.started": "2021-08-20T14:42:36.949511Z"
    }
   },
   "outputs": [],
   "source": [
    "# to check imbalance in data, so to print of all classes in data\n",
    "from collections import Counter"
   ]
  },
  {
   "cell_type": "code",
   "execution_count": 93,
   "metadata": {
    "execution": {
     "iopub.execute_input": "2021-08-20T14:46:16.120338Z",
     "iopub.status.busy": "2021-08-20T14:46:16.119741Z",
     "iopub.status.idle": "2021-08-20T14:46:16.238368Z",
     "shell.execute_reply": "2021-08-20T14:46:16.237271Z",
     "shell.execute_reply.started": "2021-08-20T14:46:16.120303Z"
    }
   },
   "outputs": [
    {
     "name": "stdout",
     "output_type": "stream",
     "text": [
      "Original dataset shape Counter({1.0: 151721, 0.0: 2707})\n",
      "Original dataset shape Counter({1.0: 151721, 0.0: 151721})\n"
     ]
    }
   ],
   "source": [
    "print('Original dataset shape {}'.format(Counter(y)))\n",
    "print('Original dataset shape {}'.format(Counter(y_train_res)))"
   ]
  },
  {
   "cell_type": "markdown",
   "metadata": {},
   "source": [
    "### Doing Cross validation using Grid Search technique and then doing predictions"
   ]
  },
  {
   "cell_type": "code",
   "execution_count": 94,
   "metadata": {
    "execution": {
     "iopub.execute_input": "2021-08-20T14:48:47.192243Z",
     "iopub.status.busy": "2021-08-20T14:48:47.191735Z",
     "iopub.status.idle": "2021-08-20T14:48:47.195889Z",
     "shell.execute_reply": "2021-08-20T14:48:47.195148Z",
     "shell.execute_reply.started": "2021-08-20T14:48:47.192211Z"
    }
   },
   "outputs": [],
   "source": [
    "from sklearn.linear_model import LogisticRegression"
   ]
  },
  {
   "cell_type": "code",
   "execution_count": 96,
   "metadata": {
    "execution": {
     "iopub.execute_input": "2021-08-20T14:49:23.651811Z",
     "iopub.status.busy": "2021-08-20T14:49:23.651225Z",
     "iopub.status.idle": "2021-08-20T14:49:23.655652Z",
     "shell.execute_reply": "2021-08-20T14:49:23.654723Z",
     "shell.execute_reply.started": "2021-08-20T14:49:23.651764Z"
    }
   },
   "outputs": [],
   "source": [
    "log_class = LogisticRegression(solver='liblinear')"
   ]
  },
  {
   "cell_type": "code",
   "execution_count": 98,
   "metadata": {
    "execution": {
     "iopub.execute_input": "2021-08-20T14:52:12.872827Z",
     "iopub.status.busy": "2021-08-20T14:52:12.872406Z",
     "iopub.status.idle": "2021-08-20T14:52:12.879336Z",
     "shell.execute_reply": "2021-08-20T14:52:12.878103Z",
     "shell.execute_reply.started": "2021-08-20T14:52:12.872793Z"
    }
   },
   "outputs": [
    {
     "data": {
      "text/plain": [
       "array([-2, -1,  0,  1,  2])"
      ]
     },
     "execution_count": 98,
     "metadata": {},
     "output_type": "execute_result"
    }
   ],
   "source": [
    "np.arange(-2,3)"
   ]
  },
  {
   "cell_type": "code",
   "execution_count": 99,
   "metadata": {
    "execution": {
     "iopub.execute_input": "2021-08-20T14:54:47.418360Z",
     "iopub.status.busy": "2021-08-20T14:54:47.417944Z",
     "iopub.status.idle": "2021-08-20T14:54:47.423345Z",
     "shell.execute_reply": "2021-08-20T14:54:47.422407Z",
     "shell.execute_reply.started": "2021-08-20T14:54:47.418326Z"
    }
   },
   "outputs": [],
   "source": [
    "grid = {'C': 10.0**np.arange(-2,3), 'penalty':['l1','l2']}"
   ]
  },
  {
   "cell_type": "code",
   "execution_count": 97,
   "metadata": {
    "execution": {
     "iopub.execute_input": "2021-08-20T14:50:22.528149Z",
     "iopub.status.busy": "2021-08-20T14:50:22.527745Z",
     "iopub.status.idle": "2021-08-20T14:50:22.532457Z",
     "shell.execute_reply": "2021-08-20T14:50:22.531397Z",
     "shell.execute_reply.started": "2021-08-20T14:50:22.528106Z"
    }
   },
   "outputs": [],
   "source": [
    "from sklearn.model_selection import GridSearchCV"
   ]
  },
  {
   "cell_type": "code",
   "execution_count": 100,
   "metadata": {
    "execution": {
     "iopub.execute_input": "2021-08-20T14:56:27.792662Z",
     "iopub.status.busy": "2021-08-20T14:56:27.792157Z",
     "iopub.status.idle": "2021-08-20T14:56:27.797666Z",
     "shell.execute_reply": "2021-08-20T14:56:27.796594Z",
     "shell.execute_reply.started": "2021-08-20T14:56:27.792605Z"
    }
   },
   "outputs": [],
   "source": [
    "clf  = GridSearchCV(estimator=log_class,param_grid=grid,cv=5,n_jobs=-1,scoring='f1_macro')"
   ]
  },
  {
   "cell_type": "code",
   "execution_count": 109,
   "metadata": {
    "execution": {
     "iopub.execute_input": "2021-08-20T15:06:17.920779Z",
     "iopub.status.busy": "2021-08-20T15:06:17.919841Z",
     "iopub.status.idle": "2021-08-20T15:21:49.713075Z",
     "shell.execute_reply": "2021-08-20T15:21:49.711682Z",
     "shell.execute_reply.started": "2021-08-20T15:06:17.920729Z"
    }
   },
   "outputs": [
    {
     "data": {
      "text/plain": [
       "GridSearchCV(cv=5, estimator=LogisticRegression(solver='liblinear'), n_jobs=-1,\n",
       "             param_grid={'C': array([1.e-02, 1.e-01, 1.e+00, 1.e+01, 1.e+02]),\n",
       "                         'penalty': ['l1', 'l2']},\n",
       "             scoring='f1_macro')"
      ]
     },
     "execution_count": 109,
     "metadata": {},
     "output_type": "execute_result"
    }
   ],
   "source": [
    "clf.fit(x_train_res, y_train_res)"
   ]
  },
  {
   "cell_type": "code",
   "execution_count": 110,
   "metadata": {
    "execution": {
     "iopub.execute_input": "2021-08-20T15:21:49.715564Z",
     "iopub.status.busy": "2021-08-20T15:21:49.715210Z",
     "iopub.status.idle": "2021-08-20T15:21:49.719825Z",
     "shell.execute_reply": "2021-08-20T15:21:49.719017Z",
     "shell.execute_reply.started": "2021-08-20T15:21:49.715528Z"
    }
   },
   "outputs": [],
   "source": [
    "from sklearn.model_selection import train_test_split"
   ]
  },
  {
   "cell_type": "code",
   "execution_count": 111,
   "metadata": {
    "execution": {
     "iopub.execute_input": "2021-08-20T15:21:49.721715Z",
     "iopub.status.busy": "2021-08-20T15:21:49.721251Z",
     "iopub.status.idle": "2021-08-20T15:21:49.837936Z",
     "shell.execute_reply": "2021-08-20T15:21:49.836901Z",
     "shell.execute_reply.started": "2021-08-20T15:21:49.721683Z"
    }
   },
   "outputs": [],
   "source": [
    "x_train,x_test,y_train,y_test = train_test_split(x_c,y)"
   ]
  },
  {
   "cell_type": "code",
   "execution_count": 112,
   "metadata": {
    "execution": {
     "iopub.execute_input": "2021-08-20T15:21:49.839923Z",
     "iopub.status.busy": "2021-08-20T15:21:49.839605Z",
     "iopub.status.idle": "2021-08-20T15:21:49.852035Z",
     "shell.execute_reply": "2021-08-20T15:21:49.851064Z",
     "shell.execute_reply.started": "2021-08-20T15:21:49.839894Z"
    }
   },
   "outputs": [],
   "source": [
    "pred = clf.predict(x_test)"
   ]
  },
  {
   "cell_type": "code",
   "execution_count": 113,
   "metadata": {
    "execution": {
     "iopub.execute_input": "2021-08-20T15:21:49.853781Z",
     "iopub.status.busy": "2021-08-20T15:21:49.853411Z",
     "iopub.status.idle": "2021-08-20T15:21:49.858641Z",
     "shell.execute_reply": "2021-08-20T15:21:49.857485Z",
     "shell.execute_reply.started": "2021-08-20T15:21:49.853752Z"
    }
   },
   "outputs": [],
   "source": [
    "from sklearn.metrics import confusion_matrix, accuracy_score"
   ]
  },
  {
   "cell_type": "code",
   "execution_count": 114,
   "metadata": {
    "execution": {
     "iopub.execute_input": "2021-08-20T15:21:49.860385Z",
     "iopub.status.busy": "2021-08-20T15:21:49.860036Z",
     "iopub.status.idle": "2021-08-20T15:21:49.935403Z",
     "shell.execute_reply": "2021-08-20T15:21:49.934609Z",
     "shell.execute_reply.started": "2021-08-20T15:21:49.860330Z"
    }
   },
   "outputs": [
    {
     "data": {
      "text/plain": [
       "array([[  689,     0],\n",
       "       [   11, 37907]])"
      ]
     },
     "execution_count": 114,
     "metadata": {},
     "output_type": "execute_result"
    }
   ],
   "source": [
    "confusion_matrix(y_test,pred)"
   ]
  },
  {
   "cell_type": "code",
   "execution_count": 115,
   "metadata": {
    "execution": {
     "iopub.execute_input": "2021-08-20T15:21:49.936841Z",
     "iopub.status.busy": "2021-08-20T15:21:49.936523Z",
     "iopub.status.idle": "2021-08-20T15:21:49.948003Z",
     "shell.execute_reply": "2021-08-20T15:21:49.946905Z",
     "shell.execute_reply.started": "2021-08-20T15:21:49.936813Z"
    }
   },
   "outputs": [
    {
     "data": {
      "text/plain": [
       "0.9997150775766053"
      ]
     },
     "execution_count": 115,
     "metadata": {},
     "output_type": "execute_result"
    }
   ],
   "source": [
    "accuracy_score(y_test,pred)"
   ]
  },
  {
   "cell_type": "code",
   "execution_count": null,
   "metadata": {},
   "outputs": [],
   "source": []
  }
 ],
 "metadata": {
  "kernelspec": {
   "display_name": "Python 3 (ipykernel)",
   "language": "python",
   "name": "python3"
  },
  "language_info": {
   "codemirror_mode": {
    "name": "ipython",
    "version": 3
   },
   "file_extension": ".py",
   "mimetype": "text/x-python",
   "name": "python",
   "nbconvert_exporter": "python",
   "pygments_lexer": "ipython3",
   "version": "3.11.4"
  }
 },
 "nbformat": 4,
 "nbformat_minor": 4
}
